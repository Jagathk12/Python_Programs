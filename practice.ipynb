{
 "cells": [
  {
   "cell_type": "code",
   "execution_count": 1,
   "metadata": {},
   "outputs": [
    {
     "data": {
      "text/plain": [
       "'helloworld'"
      ]
     },
     "execution_count": 1,
     "metadata": {},
     "output_type": "execute_result"
    }
   ],
   "source": [
    "#1) write a statement to print \"helloworld\" by using shell\n",
    "\"helloworld\""
   ]
  },
  {
   "cell_type": "code",
   "execution_count": 2,
   "metadata": {},
   "outputs": [
    {
     "name": "stdout",
     "output_type": "stream",
     "text": [
      "Helloworld\n"
     ]
    }
   ],
   "source": [
    "#2) write a statement to print \"helloworld\" by using python print function\n",
    "print(\"Helloworld\")\n"
   ]
  },
  {
   "cell_type": "code",
   "execution_count": 2,
   "metadata": {},
   "outputs": [
    {
     "name": "stdout",
     "output_type": "stream",
     "text": [
      "50\n"
     ]
    }
   ],
   "source": [
    "#3) Was to initalize variable and value as 50\n",
    "a=50\n",
    "print(a)"
   ]
  },
  {
   "cell_type": "code",
   "execution_count": 3,
   "metadata": {},
   "outputs": [
    {
     "name": "stdout",
     "output_type": "stream",
     "text": [
      "150\n",
      "120\n",
      "250\n"
     ]
    }
   ],
   "source": [
    "#4) Was to initalize multivariable value\n",
    "a,b,c=150,120,250\n",
    "print(a)\n",
    "print(b)\n",
    "print(c)\n"
   ]
  },
  {
   "cell_type": "code",
   "execution_count": 12,
   "metadata": {},
   "outputs": [
    {
     "data": {
      "text/plain": [
       "set"
      ]
     },
     "execution_count": 12,
     "metadata": {},
     "output_type": "execute_result"
    }
   ],
   "source": [
    "#5) Was to print the type of the data in given value\n",
    "a={10,20}\n",
    "type(a)"
   ]
  },
  {
   "cell_type": "code",
   "execution_count": 13,
   "metadata": {},
   "outputs": [
    {
     "data": {
      "text/plain": [
       "2696420027616"
      ]
     },
     "execution_count": 13,
     "metadata": {},
     "output_type": "execute_result"
    }
   ],
   "source": [
    "#6) Was to print the address of the memory block in given value\n",
    "\n",
    "a={10,20}\n",
    "id(a)"
   ]
  },
  {
   "cell_type": "code",
   "execution_count": 15,
   "metadata": {},
   "outputs": [
    {
     "data": {
      "text/plain": [
       "'jagath'"
      ]
     },
     "execution_count": 15,
     "metadata": {},
     "output_type": "execute_result"
    }
   ],
   "source": [
    "#7) Was to print your details,first store your details,extract the value & display it\n",
    "jagath={'name':'jagath','age':'22','height':'5.8','pancard':'True'}\n",
    "jagath['name']"
   ]
  },
  {
   "cell_type": "code",
   "execution_count": 4,
   "metadata": {},
   "outputs": [
    {
     "name": "stdout",
     "output_type": "stream",
     "text": [
      "bye\n",
      "haii\n"
     ]
    }
   ],
   "source": [
    "#8) Was to swap the two values with a temporary variable\n",
    "x='haii'\n",
    "y='bye'\n",
    "temp=x\n",
    "x=y\n",
    "y=temp\n",
    "print(x)\n",
    "print(y)"
   ]
  },
  {
   "cell_type": "code",
   "execution_count": 5,
   "metadata": {},
   "outputs": [
    {
     "name": "stdout",
     "output_type": "stream",
     "text": [
      "[10, 20]\n",
      "[10, 20]\n"
     ]
    }
   ],
   "source": [
    "#9) Was to swap the two values without a temporary variable\n",
    "\n",
    "m=[10,20]\n",
    "n=[10,20]\n",
    "m,n=n,m\n",
    "print(m)\n",
    "print(n)"
   ]
  },
  {
   "cell_type": "code",
   "execution_count": 25,
   "metadata": {},
   "outputs": [
    {
     "data": {
      "text/plain": [
       "{'a': 'kumar'}"
      ]
     },
     "execution_count": 25,
     "metadata": {},
     "output_type": "execute_result"
    }
   ],
   "source": [
    "#10) was to initalise a value and print the value, afte print the value, then reinitalise the new value tothe existing variable and display\n",
    "a={'a':'jagath'}\n",
    "a\n",
    "a['a']\n",
    "a['a']='kumar'\n",
    "a\n"
   ]
  },
  {
   "cell_type": "code",
   "execution_count": 31,
   "metadata": {},
   "outputs": [
    {
     "data": {
      "text/plain": [
       "'10'"
      ]
     },
     "execution_count": 31,
     "metadata": {},
     "output_type": "execute_result"
    }
   ],
   "source": [
    "#11) Was to convert single to multi value data type\n",
    "a=10\n",
    "a=str(a)\n",
    "a"
   ]
  },
  {
   "cell_type": "code",
   "execution_count": 1,
   "metadata": {},
   "outputs": [
    {
     "data": {
      "text/plain": [
       "'helloworld'"
      ]
     },
     "execution_count": 1,
     "metadata": {},
     "output_type": "execute_result"
    }
   ],
   "source": [
    "#12) Was to concat the two multivalue data types (str,list,tuple)\n",
    "str\n",
    "x=\"hello\" \n",
    "x+='world'\n",
    "x"
   ]
  },
  {
   "cell_type": "code",
   "execution_count": 4,
   "metadata": {},
   "outputs": [
    {
     "data": {
      "text/plain": [
       "[10, 20, 30, 40, 50, 60]"
      ]
     },
     "execution_count": 4,
     "metadata": {},
     "output_type": "execute_result"
    }
   ],
   "source": [
    "list\n",
    "y=[10,20,30]\n",
    "y+=[40,50,60]\n",
    "y"
   ]
  },
  {
   "cell_type": "code",
   "execution_count": 30,
   "metadata": {},
   "outputs": [
    {
     "data": {
      "text/plain": [
       "(10, 20, 30, 40, 50)"
      ]
     },
     "execution_count": 30,
     "metadata": {},
     "output_type": "execute_result"
    }
   ],
   "source": [
    "tuple\n",
    "s=(10,20,30)\n",
    "s+=(40,50)\n",
    "s"
   ]
  },
  {
   "cell_type": "code",
   "execution_count": 6,
   "metadata": {},
   "outputs": [
    {
     "data": {
      "text/plain": [
       "5"
      ]
     },
     "execution_count": 6,
     "metadata": {},
     "output_type": "execute_result"
    }
   ],
   "source": [
    "#13) Was to check the length of collection\n",
    "s={10,20,30,40,50}\n",
    "len(s)"
   ]
  },
  {
   "cell_type": "code",
   "execution_count": 40,
   "metadata": {},
   "outputs": [
    {
     "data": {
      "text/plain": [
       "30"
      ]
     },
     "execution_count": 40,
     "metadata": {},
     "output_type": "execute_result"
    }
   ],
   "source": [
    "#14) Wae to check find out the middle value of the given collection\n",
    "l=[10,20,30,40]\n",
    "l[len(l)//2]"
   ]
  },
  {
   "cell_type": "code",
   "execution_count": 14,
   "metadata": {},
   "outputs": [
    {
     "data": {
      "text/plain": [
       "'haiihow r u'"
      ]
     },
     "execution_count": 14,
     "metadata": {},
     "output_type": "execute_result"
    }
   ],
   "source": [
    "#15) Was to concat the new string into starting of given string\n",
    "a=\"how r u\"\n",
    "b=\"haii\"\n",
    "b+a"
   ]
  },
  {
   "cell_type": "code",
   "execution_count": 17,
   "metadata": {},
   "outputs": [
    {
     "data": {
      "text/plain": [
       "'string'"
      ]
     },
     "execution_count": 17,
     "metadata": {},
     "output_type": "execute_result"
    }
   ],
   "source": [
    "#16) Was to concat the new string into ending of given string\n",
    "\n",
    "a=\"str\"\n",
    "b=\"ing\"\n",
    "a=a+b\n",
    "a"
   ]
  },
  {
   "cell_type": "code",
   "execution_count": 19,
   "metadata": {},
   "outputs": [
    {
     "data": {
      "text/plain": [
       "'haijagathkumar'"
      ]
     },
     "execution_count": 19,
     "metadata": {},
     "output_type": "execute_result"
    }
   ],
   "source": [
    "#17) Was to concat the new string into middle of given string\n",
    "\n",
    "a=\"hai\"\n",
    "b=\"kumar\"\n",
    "c=\"jagath\"\n",
    "c=a+c+b\n",
    "c"
   ]
  },
  {
   "cell_type": "code",
   "execution_count": 49,
   "metadata": {},
   "outputs": [
    {
     "data": {
      "text/plain": [
       "'pyspIders'"
      ]
     },
     "execution_count": 49,
     "metadata": {},
     "output_type": "execute_result"
    }
   ],
   "source": [
    "#18) Was to modify  the new character  into middle of given string\n",
    "s=\"pyspiders\"\n",
    "s[len(s)//2]\n",
    "s[0:len(s)//2]+\"I\"+s[(len(s)//2)+1:]\n",
    "\n",
    "\n"
   ]
  },
  {
   "cell_type": "code",
   "execution_count": 32,
   "metadata": {},
   "outputs": [
    {
     "data": {
      "text/plain": [
       "'pysPIDers'"
      ]
     },
     "execution_count": 32,
     "metadata": {},
     "output_type": "execute_result"
    }
   ],
   "source": [
    "#19) Was to modify the sequence of chaaracter in given string\n",
    "s=\"pyspiders\"\n",
    "s[0:3]+\"PID\"+s[6:]"
   ]
  },
  {
   "cell_type": "code",
   "execution_count": 3,
   "metadata": {},
   "outputs": [
    {
     "data": {
      "text/plain": [
       "'pyspiDers'"
      ]
     },
     "execution_count": 3,
     "metadata": {},
     "output_type": "execute_result"
    }
   ],
   "source": [
    "#20) Was to replace the old character into new chaaracter in given string\n",
    "s=\"pyspiders\"\n",
    "s[:-4]+'D'+s[-3:]\n"
   ]
  },
  {
   "cell_type": "code",
   "execution_count": 4,
   "metadata": {},
   "outputs": [
    {
     "data": {
      "text/plain": [
       "'pypiders'"
      ]
     },
     "execution_count": 4,
     "metadata": {},
     "output_type": "execute_result"
    }
   ],
   "source": [
    "#21) Was to delete the specific chaaracter in given string\n",
    "\n",
    "s=\"pyspiders\"\n",
    "s[:2]+s[3:]"
   ]
  },
  {
   "cell_type": "code",
   "execution_count": 3,
   "metadata": {},
   "outputs": [
    {
     "name": "stdout",
     "output_type": "stream",
     "text": [
      "pysers\n"
     ]
    }
   ],
   "source": [
    "#22)was to delete sequence of characters in a given string\n",
    "s='pyspiders'\n",
    "print(s[:3]+s[-3:])"
   ]
  },
  {
   "cell_type": "code",
   "execution_count": 2,
   "metadata": {},
   "outputs": [
    {
     "name": "stdout",
     "output_type": "stream",
     "text": [
      "hai hai are you\n"
     ]
    }
   ],
   "source": [
    "#23)was to concat new string into a specific potion of given string\n",
    "s=\"hai are you\"\n",
    "print(s[:4]+'hai'+s[3:])"
   ]
  },
  {
   "cell_type": "code",
   "execution_count": 1,
   "metadata": {},
   "outputs": [
    {
     "name": "stdout",
     "output_type": "stream",
     "text": [
      "[4, 5, 7, 1, 2, 3]\n"
     ]
    }
   ],
   "source": [
    "#24)was to concat new value into starting of given list\n",
    "s=[1,2,3]\n",
    "print([4,5,7]+s)\n"
   ]
  },
  {
   "cell_type": "code",
   "execution_count": 5,
   "metadata": {},
   "outputs": [
    {
     "name": "stdout",
     "output_type": "stream",
     "text": [
      "[1, 2, 3, 4, 5, 7]\n"
     ]
    }
   ],
   "source": [
    "#25)was to concat new value into ending  of given list\n",
    "s=[1,2,3]\n",
    "print(s+[4,5,7])\n"
   ]
  },
  {
   "cell_type": "code",
   "execution_count": 6,
   "metadata": {},
   "outputs": [
    {
     "name": "stdout",
     "output_type": "stream",
     "text": [
      "[10, 10.12, 'a', 'b', True, 'hai']\n"
     ]
    }
   ],
   "source": [
    "#26)was to concat new value into middle of given list\n",
    "s=[10,10.12,True ,'hai']\n",
    "s[len(s)//2:len(s)//2]=['a','b']\n",
    "print(s)\n"
   ]
  },
  {
   "cell_type": "code",
   "execution_count": 7,
   "metadata": {},
   "outputs": [
    {
     "name": "stdout",
     "output_type": "stream",
     "text": [
      "[10, 10.12, 'hai', True, 'hai']\n"
     ]
    }
   ],
   "source": [
    "#27)was to concat new value into specific postion of given list\n",
    "s=[10,10.12,True ,'hai']\n",
    "s[2:2]=['hai']\n",
    "print(s)\n"
   ]
  },
  {
   "cell_type": "code",
   "execution_count": 9,
   "metadata": {},
   "outputs": [
    {
     "name": "stdout",
     "output_type": "stream",
     "text": [
      "[10, True, True, 'hai']\n"
     ]
    }
   ],
   "source": [
    "#28)was to modify new value into specific postion of given list\n",
    "s=[10,10.12,True ,'hai']\n",
    "s[1]=True\n",
    "print(s)"
   ]
  },
  {
   "cell_type": "code",
   "execution_count": null,
   "metadata": {},
   "outputs": [],
   "source": [
    "#29)was to modify new value into starting postion of given list\n",
    "s=[10,10.12,True ,'hai']\n",
    "s[0]={'a':20}\n",
    "print(s)"
   ]
  },
  {
   "cell_type": "code",
   "execution_count": 10,
   "metadata": {},
   "outputs": [
    {
     "name": "stdout",
     "output_type": "stream",
     "text": [
      "[10, 10.12, True, 'qspiders']\n"
     ]
    }
   ],
   "source": [
    "#30)was to modify new value into ending value of given list\n",
    "s=[10,10.12,True ,'hai']\n",
    "s[-1]='qspiders'\n",
    "print(s)"
   ]
  },
  {
   "cell_type": "code",
   "execution_count": 1,
   "metadata": {},
   "outputs": [
    {
     "name": "stdout",
     "output_type": "stream",
     "text": [
      "[10, 10.6, 'hello', 'haii']\n"
     ]
    }
   ],
   "source": [
    "#31)wap to modify the new value into middile of list\n",
    "l=[10,10.6,True,'haii']\n",
    "l[len(l)//2]=\"hello\"\n",
    "print(l)\n"
   ]
  },
  {
   "cell_type": "code",
   "execution_count": null,
   "metadata": {},
   "outputs": [],
   "source": [
    "#32)wap to modify the first 4 positions of given list\n",
    "l=[1,2,3,4,5,6,7,8]\n",
    "l[0:4]=['a','b','c',]\n",
    "print(l)"
   ]
  },
  {
   "cell_type": "code",
   "execution_count": 7,
   "metadata": {},
   "outputs": [
    {
     "name": "stdout",
     "output_type": "stream",
     "text": [
      "[1, 2, 3, 4, 5, 6, 7, 8, 9]\n",
      "[2, 4, 6, 8]\n",
      "[1, 20, 3, 40, 5, 60, 7, 80, 9]\n",
      "[1, 2, 4, 8, 9]\n",
      "[1, 3, 4, 5, 16, 7, 64, 6, 81, 15]\n"
     ]
    }
   ],
   "source": [
    "#33)wap to modify the sequence of values in the given list\n",
    "d=[1,2,3,4,5,6,7,8,9]\n",
    "print(d)\n",
    "print(d[1: :2])\n",
    "d[1: :2]=[20,40,60,80]\n",
    "print(d)\n",
    "\n",
    "d=[1,3,2,5,4,7,8,6,9,15]\n",
    "print(d[ : :2])\n",
    "d[ : :2]=[d[0]**2,d[2]**2,d[4]**2,d[6]**2,d[8]**2,]\n",
    "print(d)"
   ]
  },
  {
   "cell_type": "code",
   "execution_count": 8,
   "metadata": {},
   "outputs": [
    {
     "name": "stdout",
     "output_type": "stream",
     "text": [
      "[1, 2, 3, 4, 5]\n",
      "[1, 2, 3, 5]\n"
     ]
    }
   ],
   "source": [
    "#34)wap to delete the values in specific position in the given list\n",
    "s=[1,2,3,4,5]\n",
    "print(s)\n",
    "del s[3]\n",
    "print(s)"
   ]
  },
  {
   "cell_type": "code",
   "execution_count": 9,
   "metadata": {},
   "outputs": [
    {
     "name": "stdout",
     "output_type": "stream",
     "text": [
      "[1, 2, 3, 4, 5]\n",
      "[1, 2, 3, 4]\n"
     ]
    }
   ],
   "source": [
    "#35)wap to delete the values at the ending of list\n",
    "s=[1,2,3,4,5]\n",
    "print(s)\n",
    "del s[-1]\n",
    "print(s)"
   ]
  },
  {
   "cell_type": "code",
   "execution_count": 10,
   "metadata": {},
   "outputs": [
    {
     "name": "stdout",
     "output_type": "stream",
     "text": [
      "[1, 3, 5, 7, 9, 11]\n",
      "[3, 5, 7, 9, 11]\n"
     ]
    }
   ],
   "source": [
    "#36)wap to delete new value at startinf of list\n",
    "s=[1,3,5,7,9,11]\n",
    "print(s)\n",
    "s[0:1]=[]\n",
    "print(s)"
   ]
  },
  {
   "cell_type": "code",
   "execution_count": 11,
   "metadata": {},
   "outputs": [
    {
     "name": "stdout",
     "output_type": "stream",
     "text": [
      "[1, 2, 3, 4, 5, 6]\n",
      "[1, 2, 3, 5, 6]\n"
     ]
    }
   ],
   "source": [
    "#37)wap to delete new value in the middle of the list\n",
    "s=[1,2,3,4,5,6]\n",
    "print(s)\n",
    "del s[len(s)//2]\n",
    "print(s)"
   ]
  },
  {
   "cell_type": "code",
   "execution_count": 12,
   "metadata": {},
   "outputs": [
    {
     "name": "stdout",
     "output_type": "stream",
     "text": [
      "(1, 2, 3, 4, 5)\n",
      "('a', 'b', 1, 2, 3, 4, 5)\n"
     ]
    }
   ],
   "source": [
    "#38)wap to concat the value at starting of tuple\n",
    "t=(1,2,3,4,5)\n",
    "print(t)\n",
    "t=('a','b')+t\n",
    "print(t)"
   ]
  },
  {
   "cell_type": "code",
   "execution_count": 13,
   "metadata": {},
   "outputs": [
    {
     "name": "stdout",
     "output_type": "stream",
     "text": [
      "(1, 2, 3, 4, 5)\n",
      "(1, 2, 'a', 'b', 3, 4, 5)\n"
     ]
    }
   ],
   "source": [
    "#39)wap to concat the value at the middle of tuple.\n",
    "t=(1,2,3,4,5)\n",
    "print(t)\n",
    "t=t[0:2]+('a','b')+t[2:]\n",
    "print(t)"
   ]
  },
  {
   "cell_type": "code",
   "execution_count": 4,
   "metadata": {},
   "outputs": [
    {
     "name": "stdout",
     "output_type": "stream",
     "text": [
      "(10, 10.12, True, 10)\n"
     ]
    }
   ],
   "source": [
    "#40)was to concat value ending of tuple\n",
    "t=(10,10.12,True)\n",
    "t+=(10,)\n",
    "print(t)"
   ]
  },
  {
   "cell_type": "code",
   "execution_count": 5,
   "metadata": {},
   "outputs": [
    {
     "name": "stdout",
     "output_type": "stream",
     "text": [
      "(10, 'modified')\n"
     ]
    }
   ],
   "source": [
    "#41)was to modify sequence values in a tuple\n",
    "t=(10,10.12,True,50)\n",
    "print(t[0:1]+('modified',))"
   ]
  },
  {
   "cell_type": "code",
   "execution_count": 14,
   "metadata": {},
   "outputs": [
    {
     "name": "stdout",
     "output_type": "stream",
     "text": [
      "(10, [10, True])\n"
     ]
    }
   ],
   "source": [
    "#42)was to delete sequence of values in a tuple \n",
    "t=(10,10.12,True,'string',[10,True])\n",
    "print(t[:1]+t[-1:])\n"
   ]
  },
  {
   "cell_type": "code",
   "execution_count": 15,
   "metadata": {},
   "outputs": [
    {
     "name": "stdout",
     "output_type": "stream",
     "text": [
      "{50, 20, 40, 10, 30}\n"
     ]
    }
   ],
   "source": [
    "#43)was to concat the new value into the set\n",
    "s={10,20,30}\n",
    "s|={40,50}\n",
    "print(s)"
   ]
  },
  {
   "cell_type": "code",
   "execution_count": 8,
   "metadata": {},
   "outputs": [
    {
     "name": "stdout",
     "output_type": "stream",
     "text": [
      "{10, 30}\n"
     ]
    }
   ],
   "source": [
    "#44)was to delete specific value in a set\n",
    "s={10,20,30}\n",
    "s-={20}\n",
    "print(s)"
   ]
  },
  {
   "cell_type": "code",
   "execution_count": 16,
   "metadata": {},
   "outputs": [
    {
     "name": "stdout",
     "output_type": "stream",
     "text": [
      "{10: 20, 20: 30, 40: 50, 50: 309}\n",
      "{10: 20, 20: 30, 40: 50, 50: 309, 60: 70, 80: 90}\n"
     ]
    }
   ],
   "source": [
    "#45)was to concat new value and key to dict\n",
    "d={10:20,20:30,40:50}\n",
    "d[50]=309\n",
    "print(d) #to add single value\n",
    "e={60:70,80:90}\n",
    "d|=e\n",
    "print(d) #to add multiple values at a time"
   ]
  },
  {
   "cell_type": "code",
   "execution_count": 17,
   "metadata": {},
   "outputs": [
    {
     "name": "stdout",
     "output_type": "stream",
     "text": [
      "{10: 20, 40: 50}\n"
     ]
    }
   ],
   "source": [
    "#46)was to delete specific key and value in the given dict\n",
    "d={10:20,20:30,40:50}\n",
    "del d[20]\n",
    "print(d)"
   ]
  },
  {
   "cell_type": "code",
   "execution_count": 20,
   "metadata": {},
   "outputs": [
    {
     "name": "stdout",
     "output_type": "stream",
     "text": [
      "{10: 200, 20: 30, 40: 50}\n"
     ]
    }
   ],
   "source": [
    "#47)was to specific value in a given dict\n",
    "d={10:20,20:30,40:50}\n",
    "d[10]=200\n",
    "print(d)"
   ]
  },
  {
   "cell_type": "code",
   "execution_count": 11,
   "metadata": {},
   "outputs": [
    {
     "name": "stdout",
     "output_type": "stream",
     "text": [
      "[10, 10.12, True, 'string', 'a', 'b']\n"
     ]
    }
   ],
   "source": [
    "#48)was to concat list value and tuple values by using typecasting\n",
    "l=[10,10.12,True]\n",
    "t=(\"string\",'a','b')\n",
    "print(l+list(t))"
   ]
  },
  {
   "cell_type": "code",
   "execution_count": 19,
   "metadata": {},
   "outputs": [
    {
     "name": "stdout",
     "output_type": "stream",
     "text": [
      "[10, 10.12, True, 'string', 'a', 'b']\n"
     ]
    }
   ],
   "source": [
    "#49)was to concat list and tuple value without using typecasting\n",
    "l=[10,10.12,True]\n",
    "t=(\"string\",'a','b')\n",
    "l+=t\n",
    "print(l)"
   ]
  },
  {
   "cell_type": "code",
   "execution_count": 21,
   "metadata": {},
   "outputs": [
    {
     "name": "stdout",
     "output_type": "stream",
     "text": [
      "[10, 20, 30, 40, 'a', 'b', 'c', 'd']\n"
     ]
    }
   ],
   "source": [
    "# 50 to concat list and tuple by using the compound assignment\n",
    "\n",
    "l=[10,20,30,40]\n",
    "l+=(\"a\",\"b\",\"c\",\"d\")\n",
    "print(l)"
   ]
  },
  {
   "cell_type": "code",
   "execution_count": 14,
   "metadata": {},
   "outputs": [
    {
     "name": "stdout",
     "output_type": "stream",
     "text": [
      "True\n"
     ]
    }
   ],
   "source": [
    "# 51 to check given number is divisible by the 3\n",
    "\n",
    "n=9\n",
    "print(n%3==0)\n",
    "    "
   ]
  },
  {
   "cell_type": "code",
   "execution_count": 15,
   "metadata": {},
   "outputs": [
    {
     "data": {
      "text/plain": [
       "True"
      ]
     },
     "execution_count": 15,
     "metadata": {},
     "output_type": "execute_result"
    }
   ],
   "source": [
    "#52 to check the given number is diisible by 2 and 6\n",
    "\n",
    "n=21\n",
    "n%2==0 and n%6==0\n",
    "\n",
    "\n",
    "n=24\n",
    "n%2==0 and n%6==0\n"
   ]
  },
  {
   "cell_type": "code",
   "execution_count": 21,
   "metadata": {},
   "outputs": [
    {
     "data": {
      "text/plain": [
       "True"
      ]
     },
     "execution_count": 21,
     "metadata": {},
     "output_type": "execute_result"
    }
   ],
   "source": [
    "# 53 to extract the last digit of the number and check it is divisible by 3\n",
    "\n",
    "n=1997\n",
    "rem=n%10\n",
    "rem%3==0\n",
    "\n",
    "n=1996\n",
    "rem=n%10\n",
    "rem%3==0"
   ]
  },
  {
   "cell_type": "code",
   "execution_count": 17,
   "metadata": {},
   "outputs": [
    {
     "name": "stdout",
     "output_type": "stream",
     "text": [
      "9\n"
     ]
    }
   ],
   "source": [
    "# 54 to extract the the last int by using the type casting\n",
    "\n",
    "s=2029\n",
    "n=str(s)\n",
    "print(int(n[-1]))"
   ]
  },
  {
   "cell_type": "code",
   "execution_count": 18,
   "metadata": {},
   "outputs": [
    {
     "data": {
      "text/plain": [
       "False"
      ]
     },
     "execution_count": 18,
     "metadata": {},
     "output_type": "execute_result"
    }
   ],
   "source": [
    "# 55 to check the given number is greater than 150\n",
    "\n",
    "n=151\n",
    "n>150\n",
    "\n",
    "n=140\n",
    "n>150"
   ]
  },
  {
   "cell_type": "code",
   "execution_count": 20,
   "metadata": {},
   "outputs": [
    {
     "data": {
      "text/plain": [
       "False"
      ]
     },
     "execution_count": 20,
     "metadata": {},
     "output_type": "execute_result"
    }
   ],
   "source": [
    "# 56 to check the given number is greater than or equal to 100\n",
    "\n",
    "n=100\n",
    "n>=100\n",
    "\n",
    "s=132\n",
    "s>=100\n",
    "\n",
    "a=99\n",
    "a>=100\n"
   ]
  },
  {
   "cell_type": "code",
   "execution_count": 16,
   "metadata": {},
   "outputs": [
    {
     "data": {
      "text/plain": [
       "True"
      ]
     },
     "execution_count": 16,
     "metadata": {},
     "output_type": "execute_result"
    }
   ],
   "source": [
    "# 57 to check the given number is greater than 16 and less than 24\n",
    "\n",
    "n=20\n",
    "n>16 and n<24\n",
    "#true\n",
    "\n",
    "n=25\n",
    "n>16 and n<24\n",
    "#false\n",
    "\n",
    "n=23\n",
    "16<n<24\n",
    "#true"
   ]
  },
  {
   "cell_type": "code",
   "execution_count": 23,
   "metadata": {},
   "outputs": [
    {
     "data": {
      "text/plain": [
       "True"
      ]
     },
     "execution_count": 23,
     "metadata": {},
     "output_type": "execute_result"
    }
   ],
   "source": [
    "# 58 to check the number is less than or equal to 100\n",
    "\n",
    "n=100\n",
    "n<=100\n",
    "#true\n",
    "\n",
    "n=101\n",
    "n<=100\n",
    "#false\n",
    "\n",
    "n=90\n",
    "n<=100\n",
    "#true"
   ]
  },
  {
   "cell_type": "code",
   "execution_count": 24,
   "metadata": {},
   "outputs": [
    {
     "data": {
      "text/plain": [
       "True"
      ]
     },
     "execution_count": 24,
     "metadata": {},
     "output_type": "execute_result"
    }
   ],
   "source": [
    "# 59 to check the given is is even\n",
    "\n",
    "n=121\n",
    "n%2==0\n",
    "#false\n",
    "\n",
    "n=256\n",
    "n%2==0\n",
    "#true"
   ]
  },
  {
   "cell_type": "code",
   "execution_count": 25,
   "metadata": {},
   "outputs": [
    {
     "data": {
      "text/plain": [
       "False"
      ]
     },
     "execution_count": 25,
     "metadata": {},
     "output_type": "execute_result"
    }
   ],
   "source": [
    "# 60 to check the number is odd\n",
    "\n",
    "n=233\n",
    "n%2!=0\n",
    "#true\n",
    "\n",
    "n=122\n",
    "n%2!=0\n",
    "#false"
   ]
  },
  {
   "cell_type": "code",
   "execution_count": 27,
   "metadata": {},
   "outputs": [
    {
     "name": "stdout",
     "output_type": "stream",
     "text": [
      "strstrstrstrstr\n",
      "[10, 20, 30, 10, 20, 30, 10, 20, 30, 10, 20, 30, 10, 20, 30]\n",
      "('a', 'b', 'c', 'a', 'b', 'c', 'a', 'b', 'c', 'a', 'b', 'c')\n"
     ]
    }
   ],
   "source": [
    "# 62 to perform the replication of the string\n",
    "\n",
    "a=\"str\"\n",
    "print(a*5)\n",
    "\n",
    "a=[10,20,30]\n",
    "print(a*5)\n",
    "\n",
    "a=(\"a\",\"b\",\"c\")\n",
    "print(a*4)"
   ]
  },
  {
   "cell_type": "code",
   "execution_count": 30,
   "metadata": {},
   "outputs": [
    {
     "data": {
      "text/plain": [
       "True"
      ]
     },
     "execution_count": 30,
     "metadata": {},
     "output_type": "execute_result"
    }
   ],
   "source": [
    "# 63 to check the given number is greater than 22 and divisible by 3\n",
    "\n",
    "n=29\n",
    "n>22 and n%3==0\n",
    "#false\n",
    "\n",
    "s=24\n",
    "s>22 and s%3==0\n",
    "#true"
   ]
  },
  {
   "cell_type": "code",
   "execution_count": 28,
   "metadata": {},
   "outputs": [
    {
     "data": {
      "text/plain": [
       "False"
      ]
     },
     "execution_count": 28,
     "metadata": {},
     "output_type": "execute_result"
    }
   ],
   "source": [
    "# 64 to check the length of the collection is even or not\n",
    "\n",
    "s=\"python is a programming language\"\n",
    "len(s)%2==0\n",
    "#true\n",
    "\n",
    "\n",
    "s=[1,2,3,4,5,6,90]\n",
    "len(s)%2==0\n",
    "#false"
   ]
  },
  {
   "cell_type": "code",
   "execution_count": 29,
   "metadata": {},
   "outputs": [
    {
     "data": {
      "text/plain": [
       "True"
      ]
     },
     "execution_count": 29,
     "metadata": {},
     "output_type": "execute_result"
    }
   ],
   "source": [
    "# 65 to perform the length of the collection is less than 55 and greater than 16\n",
    "\n",
    "s=\"python is a highlevel programming language\"\n",
    "len(s)>16 and len(s)<55\n",
    "\n",
    "22<len(s)<55\n"
   ]
  },
  {
   "cell_type": "code",
   "execution_count": null,
   "metadata": {},
   "outputs": [],
   "source": [
    "# 66 to perform the the given collection is divisible by 5 and it is odd\n",
    "\n",
    "s=\"python is a programming language\"\n",
    "len(s)%5==0 and len(s)%2!=0\n",
    "#false\n",
    "\n",
    "t=\"programming lan\"\n",
    "print(len(t))\n",
    "len(t)%5==0 and len(t)%2!=0\n",
    "#true\n"
   ]
  },
  {
   "cell_type": "code",
   "execution_count": null,
   "metadata": {},
   "outputs": [],
   "source": [
    "# 67 to extract the middle position of the given collection and either it is (str,list,tuple)\n",
    "\n",
    "l=\"hello\"\n",
    "l=len(l)//2\n",
    "type(l)"
   ]
  },
  {
   "cell_type": "code",
   "execution_count": null,
   "metadata": {},
   "outputs": [],
   "source": [
    "#68 to check the given number is greater than 30 and less than 20 and divisible by 2\n",
    "\n",
    "n=25\n",
    "20<n<30 and n%2==0\n",
    "#false\n",
    " \n",
    "n=28\n",
    "20<n<30 and n%2==0"
   ]
  },
  {
   "cell_type": "code",
   "execution_count": 35,
   "metadata": {},
   "outputs": [
    {
     "data": {
      "text/plain": [
       "False"
      ]
     },
     "execution_count": 35,
     "metadata": {},
     "output_type": "execute_result"
    }
   ],
   "source": [
    "# 69 to check the number is less than 120 and even\n",
    "\n",
    "n=108\n",
    "n<120 and n%2==0 \n",
    "#true\n",
    "\n",
    "n=153\n",
    "n<120 and n%2==0\n",
    "#false"
   ]
  },
  {
   "cell_type": "code",
   "execution_count": null,
   "metadata": {},
   "outputs": [],
   "source": [
    "# 70 to check the number is even and present between 40 and 70\n",
    "\n",
    "n=56\n",
    "40<n<70 and n%2==0\n",
    "#true\n",
    "\n",
    "n=61\n",
    "40<n<70 and n%2==0\n",
    "#false"
   ]
  },
  {
   "cell_type": "code",
   "execution_count": null,
   "metadata": {},
   "outputs": [],
   "source": [
    "# 71 to check the number is odd and greater than 97\n",
    "n=101\n",
    "n>97 and n%2!=0"
   ]
  },
  {
   "cell_type": "code",
   "execution_count": 33,
   "metadata": {},
   "outputs": [
    {
     "name": "stdout",
     "output_type": "stream",
     "text": [
      "True\n",
      "False\n"
     ]
    }
   ],
   "source": [
    "# 72 to check the number is greater than 46 and less than 122 and divisible by 4\n",
    "\n",
    "n=72\n",
    "a=46<n<122 and n%4==0\n",
    "print(a)\n",
    "\n",
    "n=45\n",
    "a=46<n<122 and n%4==0\n",
    "print(a)\n",
    "\n"
   ]
  },
  {
   "cell_type": "code",
   "execution_count": 34,
   "metadata": {},
   "outputs": [
    {
     "name": "stdout",
     "output_type": "stream",
     "text": [
      "True\n",
      "False\n"
     ]
    }
   ],
   "source": [
    "# 73 to check the given number is divisible by both 3 and 5,display value\n",
    "\n",
    "n=30\n",
    "a=n%3==0 and n%5==0\n",
    "print(a)\n",
    "\n",
    "n=39\n",
    "b=n%3==0 and n%5==0\n",
    "print(b)"
   ]
  },
  {
   "cell_type": "code",
   "execution_count": 32,
   "metadata": {},
   "outputs": [
    {
     "name": "stdout",
     "output_type": "stream",
     "text": [
      "True\n"
     ]
    }
   ],
   "source": [
    "#74 to check the number between 100 and 200 including the limit\n",
    "\n",
    "n=141\n",
    "a=100<n<200\n",
    "print(a)"
   ]
  },
  {
   "cell_type": "code",
   "execution_count": 31,
   "metadata": {},
   "outputs": [
    {
     "name": "stdout",
     "output_type": "stream",
     "text": [
      "False\n",
      "True\n"
     ]
    }
   ],
   "source": [
    "#75 to check the number between 100 and 200 \n",
    "\n",
    "n=41\n",
    "a=100<n<200\n",
    "print(a)\n",
    "\n",
    "n=191\n",
    "a=100<n<200\n",
    "print(a)"
   ]
  },
  {
   "cell_type": "code",
   "execution_count": 40,
   "metadata": {},
   "outputs": [
    {
     "name": "stdout",
     "output_type": "stream",
     "text": [
      "False\n",
      "True\n"
     ]
    }
   ],
   "source": [
    "#76) Write a equation to check the given string last character ASCII value should be divisible by 5 or not \n",
    "s='apple'\n",
    "print(ord(s[-1])%5==0)\n",
    "s='appld'\n",
    "print(ord(s[-1])%5==0)"
   ]
  },
  {
   "cell_type": "code",
   "execution_count": 9,
   "metadata": {},
   "outputs": [
    {
     "name": "stdout",
     "output_type": "stream",
     "text": [
      "False\n"
     ]
    }
   ],
   "source": [
    "#77) Wae to check the given number is present between 60 to 130 and the number should be divisible by 3 and 4 and last digit should greater than 9\n",
    "n=129\n",
    "print(60<=n<=130 and n%3==0 and n%4==0 and n%10>9)"
   ]
  },
  {
   "cell_type": "code",
   "execution_count": 10,
   "metadata": {},
   "outputs": [
    {
     "name": "stdout",
     "output_type": "stream",
     "text": [
      "True\n",
      "True\n",
      "False\n"
     ]
    }
   ],
   "source": [
    "#78)Wae to check the given number is even or lessthan 25\n",
    "n=26\n",
    "print(n%2==0 or n <25)\n",
    "n=23\n",
    "print(n%2==0 or n <25)\n",
    "n=49\n",
    "print(n%2==0 or n <25)"
   ]
  },
  {
   "cell_type": "code",
   "execution_count": 1,
   "metadata": {},
   "outputs": [
    {
     "name": "stdout",
     "output_type": "stream",
     "text": [
      "True\n",
      "True\n",
      "False\n"
     ]
    }
   ],
   "source": [
    "#79) Wae to check the given number is even or greater than 25\n",
    "n=24\n",
    "print(n%2==0 or n>25)\n",
    "n=27\n",
    "print(n%2==0 or n>25)\n",
    "n=21\n",
    "print(n%2==0 or n>25)"
   ]
  },
  {
   "cell_type": "code",
   "execution_count": 2,
   "metadata": {},
   "outputs": [
    {
     "name": "stdout",
     "output_type": "stream",
     "text": [
      "True\n",
      "True\n",
      "False\n"
     ]
    }
   ],
   "source": [
    "#80) Wae to check the given number is divisible by either 3 or 5\n",
    "n=9\n",
    "print(n%3==0 or n%5==0)\n",
    "n=20\n",
    "print(n%3==0 or n%5==0)\n",
    "n=16\n",
    "print(n%3==0 or n%5==0)\n"
   ]
  },
  {
   "cell_type": "code",
   "execution_count": 4,
   "metadata": {},
   "outputs": [
    {
     "name": "stdout",
     "output_type": "stream",
     "text": [
      "True\n",
      "True\n"
     ]
    }
   ],
   "source": [
    "#81) Wae to check the given number is not an even number\n",
    "n=5\n",
    "print(n%2!=0)\n",
    "n=5\n",
    "print(n%2!=0)"
   ]
  },
  {
   "cell_type": "code",
   "execution_count": 5,
   "metadata": {},
   "outputs": [
    {
     "name": "stdout",
     "output_type": "stream",
     "text": [
      "True\n",
      "False\n"
     ]
    }
   ],
   "source": [
    "#82) Wae to check the given number is not an odd number\n",
    "n=10\n",
    "print(n%2==0)\n",
    "n=11\n",
    "print(n%2==0)"
   ]
  },
  {
   "cell_type": "code",
   "execution_count": 30,
   "metadata": {},
   "outputs": [
    {
     "name": "stdout",
     "output_type": "stream",
     "text": [
      "False\n",
      "False\n"
     ]
    }
   ],
   "source": [
    "#83) Wae to check the given number is not a divisible by 3\n",
    "n=9\n",
    "print(n%3!=0)\n",
    "n=8\n",
    "print(n%3==0)\n",
    "\n",
    "\n"
   ]
  },
  {
   "cell_type": "code",
   "execution_count": 28,
   "metadata": {},
   "outputs": [
    {
     "name": "stdout",
     "output_type": "stream",
     "text": [
      "False\n",
      "True\n"
     ]
    }
   ],
   "source": [
    "#84) Wae to check the given number is not divisible by 3 and 5\n",
    "n=15\n",
    "print(n%3!=0 and n%5!=0)\n",
    "n=16\n",
    "print(n%3!=0 and n%5!=0)"
   ]
  },
  {
   "cell_type": "code",
   "execution_count": 36,
   "metadata": {},
   "outputs": [
    {
     "name": "stdout",
     "output_type": "stream",
     "text": [
      "False\n",
      "True\n"
     ]
    }
   ],
   "source": [
    "#85) Wae to check the given number is not divisible by 3 or 5\n",
    "n=30\n",
    "print(n%3!=0 or n%5!=0)\n",
    "n=9\n",
    "print(n%3==0 or n%5!=0)"
   ]
  },
  {
   "cell_type": "code",
   "execution_count": null,
   "metadata": {},
   "outputs": [],
   "source": [
    "char='A'\n",
    "print(ord(char)%5!=0)\n",
    "char='B'\n",
    "print(ord(char)%5!=0)"
   ]
  },
  {
   "cell_type": "code",
   "execution_count": null,
   "metadata": {},
   "outputs": [
    {
     "name": "stdout",
     "output_type": "stream",
     "text": [
      "A\n",
      "0\n",
      "a\n",
      ";\n"
     ]
    }
   ],
   "source": [
    "#87) Wae to check find out the ascii character in a given number\n",
    "n=65\n",
    "print(chr(n))\n",
    "n=48\n",
    "print(chr(n))\n",
    "\n",
    "n=97\n",
    "print(chr(n))\n",
    "\n",
    "n=59\n",
    "print(chr(n))\n"
   ]
  },
  {
   "cell_type": "code",
   "execution_count": null,
   "metadata": {},
   "outputs": [
    {
     "data": {
      "text/plain": [
       "59"
      ]
     },
     "execution_count": 16,
     "metadata": {},
     "output_type": "execute_result"
    }
   ],
   "source": [
    "#88) Wae to check find out the ascii value in a given character\n",
    "ch=';'\n",
    "ord(ch)\n"
   ]
  },
  {
   "cell_type": "code",
   "execution_count": null,
   "metadata": {},
   "outputs": [
    {
     "data": {
      "text/plain": [
       "True"
      ]
     },
     "execution_count": 20,
     "metadata": {},
     "output_type": "execute_result"
    }
   ],
   "source": [
    "#89) Wae to check given character is uppercase or not\n",
    "ch='G'\n",
    "'A'<=ch and ch<='Z'\n"
   ]
  },
  {
   "cell_type": "code",
   "execution_count": null,
   "metadata": {},
   "outputs": [
    {
     "data": {
      "text/plain": [
       "True"
      ]
     },
     "execution_count": 32,
     "metadata": {},
     "output_type": "execute_result"
    }
   ],
   "source": [
    "#90) Wae to check the given character is lower case or not\n",
    "ch='a'\n",
    "'a'<=ch<='z'"
   ]
  },
  {
   "cell_type": "code",
   "execution_count": null,
   "metadata": {},
   "outputs": [
    {
     "data": {
      "text/plain": [
       "True"
      ]
     },
     "execution_count": 21,
     "metadata": {},
     "output_type": "execute_result"
    }
   ],
   "source": [
    "#91) Wae to check given character is the alphabet\n",
    "ch='s'\n",
    "'A'<=ch<='z' or 'a'<=ch<='z'\n"
   ]
  },
  {
   "cell_type": "code",
   "execution_count": null,
   "metadata": {},
   "outputs": [
    {
     "data": {
      "text/plain": [
       "True"
      ]
     },
     "execution_count": 22,
     "metadata": {},
     "output_type": "execute_result"
    }
   ],
   "source": [
    "#92) Wae to check given character is the ascii number\n",
    "ch='5'\n",
    "'0'<=ch<'9'\n"
   ]
  },
  {
   "cell_type": "code",
   "execution_count": null,
   "metadata": {},
   "outputs": [
    {
     "name": "stdout",
     "output_type": "stream",
     "text": [
      "True\n",
      "False\n"
     ]
    }
   ],
   "source": [
    "#93) wae to check given character is the special\n",
    "ch='$'\n",
    "print ('A'<=ch<='Z' or 'a'<=ch<='z' or '0'<=ch<='9')\n",
    "print (not('A'<=ch<='Z' or 'a'<=ch<='z' or '0'<=ch<='9'))"
   ]
  },
  {
   "cell_type": "code",
   "execution_count": null,
   "metadata": {},
   "outputs": [
    {
     "data": {
      "text/plain": [
       "True"
      ]
     },
     "execution_count": 11,
     "metadata": {},
     "output_type": "execute_result"
    }
   ],
   "source": [
    "#94) Wae to check given character should not be uppercase\n",
    "ch='a'\n",
    "not('A'<=ch and ch<='Z')\n",
    "\n"
   ]
  },
  {
   "cell_type": "code",
   "execution_count": null,
   "metadata": {},
   "outputs": [
    {
     "data": {
      "text/plain": [
       "True"
      ]
     },
     "execution_count": 12,
     "metadata": {},
     "output_type": "execute_result"
    }
   ],
   "source": [
    "#95) Wae to check given character should not be lowercase\n",
    "ch='G'\n",
    "not('a'<=ch and ch<='z')\n",
    "\n"
   ]
  },
  {
   "cell_type": "code",
   "execution_count": null,
   "metadata": {},
   "outputs": [
    {
     "data": {
      "text/plain": [
       "True"
      ]
     },
     "execution_count": 13,
     "metadata": {},
     "output_type": "execute_result"
    }
   ],
   "source": [
    "#96) Wae to check given character should not be alphabet\n",
    "ch='0'\n",
    "not('A'<=ch<='z' or 'a'<=ch<='z')\n"
   ]
  },
  {
   "cell_type": "code",
   "execution_count": 37,
   "metadata": {},
   "outputs": [
    {
     "name": "stdout",
     "output_type": "stream",
     "text": [
      "True\n"
     ]
    }
   ],
   "source": [
    "#97) Wae to check given character should not be ascii number\n",
    "ch='a'\n",
    "print(not(ord(ch)>=48 and ord(ch)<=57))"
   ]
  },
  {
   "cell_type": "code",
   "execution_count": 1,
   "metadata": {},
   "outputs": [
    {
     "name": "stdout",
     "output_type": "stream",
     "text": [
      "False\n",
      "True\n"
     ]
    }
   ],
   "source": [
    "#98) wae to check given character should not be special character\n",
    "\n",
    "ch='@'\n",
    "print(not(0<=ord(ch)<47 or 58<=ord(ch)<=96 or 123<=ord(ch)<=127))\n",
    "\n",
    "ch='a'\n",
    "print(not(0<=ord(ch)<47 or 58<=ord(ch)<=96 or 123<=ord(ch)<=127))\n"
   ]
  },
  {
   "cell_type": "code",
   "execution_count": 2,
   "metadata": {},
   "outputs": [
    {
     "name": "stdout",
     "output_type": "stream",
     "text": [
      "True\n",
      "False\n"
     ]
    }
   ],
   "source": [
    "#99) Wae to check the given character is ovel\n",
    "ch='A'\n",
    "print (ch=='A' or ch=='E' or ch=='I' or ch=='O' or ch=='U' or ch=='a'  or ch=='e'  or ch=='i'  or ch=='o'  or ch=='u')\n",
    "ch='B'\n",
    "print (ch=='A' or ch=='E' or ch=='I' or ch=='O' or ch=='U' or ch=='a'  or ch=='e'  or ch=='i'  or ch=='o'  or ch=='u')"
   ]
  },
  {
   "cell_type": "code",
   "execution_count": 3,
   "metadata": {},
   "outputs": [
    {
     "name": "stdout",
     "output_type": "stream",
     "text": [
      "True\n"
     ]
    }
   ],
   "source": [
    "#100) Wae to check the given character is consonant\n",
    "ch='g'\n",
    "print(not(ch in \"AEIOUaeiou\"))"
   ]
  },
  {
   "cell_type": "code",
   "execution_count": 1,
   "metadata": {},
   "outputs": [
    {
     "data": {
      "text/plain": [
       "'a'"
      ]
     },
     "execution_count": 1,
     "metadata": {},
     "output_type": "execute_result"
    }
   ],
   "source": [
    "#101) Was to convert upper to lower case in a given character\n",
    "ch='A'\n",
    "chr(ord(ch)+32)"
   ]
  },
  {
   "cell_type": "code",
   "execution_count": 2,
   "metadata": {},
   "outputs": [
    {
     "data": {
      "text/plain": [
       "'A'"
      ]
     },
     "execution_count": 2,
     "metadata": {},
     "output_type": "execute_result"
    }
   ],
   "source": [
    "#102) Was to convert lower to upper case in a given character\n",
    "ch='a'\n",
    "chr(ord(ch)-32)"
   ]
  },
  {
   "cell_type": "code",
   "execution_count": 3,
   "metadata": {},
   "outputs": [
    {
     "data": {
      "text/plain": [
       "'A'"
      ]
     },
     "execution_count": 3,
     "metadata": {},
     "output_type": "execute_result"
    }
   ],
   "source": [
    "#103) Was to convert previous character in a given character\n",
    "ch='B'\n",
    "chr(ord(ch)-1)"
   ]
  },
  {
   "cell_type": "code",
   "execution_count": 4,
   "metadata": {},
   "outputs": [
    {
     "data": {
      "text/plain": [
       "'C'"
      ]
     },
     "execution_count": 4,
     "metadata": {},
     "output_type": "execute_result"
    }
   ],
   "source": [
    "#104) Was to convert new character in a given character\n",
    "ch='B'\n",
    "chr(ord(ch)+1)"
   ]
  },
  {
   "cell_type": "code",
   "execution_count": 7,
   "metadata": {},
   "outputs": [
    {
     "name": "stdout",
     "output_type": "stream",
     "text": [
      "True\n",
      "False\n"
     ]
    }
   ],
   "source": [
    "#105) Was to check the given number is converted to ASCII value and the value is even as well as the character should be lowercase\n",
    "ch='d'\n",
    "print(len(ch)==1 and ord(ch)%2==0 and 'a'<=ch<'z')\n",
    "ch='e'\n",
    "print(len(ch)==1 and ord(ch)%2==0 and 'a'<=ch<'z')"
   ]
  },
  {
   "cell_type": "code",
   "execution_count": 10,
   "metadata": {},
   "outputs": [
    {
     "name": "stdout",
     "output_type": "stream",
     "text": [
      "True\n"
     ]
    }
   ],
   "source": [
    "#106) Was to check the given number is converted to ASCII value and the value is odd as well as the character should be uppercase\n",
    "ch='A'\n",
    "print(len(ch)==1 and ord(ch)%2!=0 and 'A'<=ch<'Z')\n"
   ]
  },
  {
   "cell_type": "code",
   "execution_count": 11,
   "metadata": {},
   "outputs": [
    {
     "name": "stdout",
     "output_type": "stream",
     "text": [
      "False\n",
      "True\n"
     ]
    }
   ],
   "source": [
    "#107) Was to check the given number is converted to character is not a special symbol or not\n",
    "n=58\n",
    "print('A'<=chr(n)<'z' or 'a'<=chr(n)<='z' or '0'<=chr(n)<='9')\n",
    "n=57\n",
    "print('A'<=chr(n)<'z' or 'a'<=chr(n)<='z' or '0'<=chr(n)<='9')\n"
   ]
  },
  {
   "cell_type": "code",
   "execution_count": 15,
   "metadata": {},
   "outputs": [
    {
     "name": "stdout",
     "output_type": "stream",
     "text": [
      "True\n",
      "False\n"
     ]
    }
   ],
   "source": [
    "#108) Was to check the given number of ascii character is a vowel or not\n",
    "n=65\n",
    "print(chr(n)in\"aeiouAEIOU\")\n",
    "n=66\n",
    "print(chr(n)in\"aeiouAEIOU\")\n"
   ]
  },
  {
   "cell_type": "code",
   "execution_count": 17,
   "metadata": {},
   "outputs": [
    {
     "name": "stdout",
     "output_type": "stream",
     "text": [
      "True\n",
      "True\n",
      "False\n"
     ]
    }
   ],
   "source": [
    "#109) Was to check the first and second characters are sequence or not in a string\n",
    "st=\"ABCD\"\n",
    "print(ord(st[0])+1==ord(st[1]))\n",
    "st=\"ABCD\"\n",
    "print(ord(st[0])==ord(st[1])-1)\n",
    "st=\"ADCD\"\n",
    "print(ord(st[0])==ord(st[1])-1)"
   ]
  },
  {
   "cell_type": "code",
   "execution_count": 18,
   "metadata": {},
   "outputs": [
    {
     "data": {
      "text/plain": [
       "True"
      ]
     },
     "execution_count": 18,
     "metadata": {},
     "output_type": "execute_result"
    }
   ],
   "source": [
    "#110) Wae to check the given character ASCII value should be either greater than 50 or greater than 25 or lessthan 110\n",
    "ch='0'\n",
    "ord(ch)>25 or ord(ch)<112"
   ]
  },
  {
   "cell_type": "code",
   "execution_count": 19,
   "metadata": {},
   "outputs": [
    {
     "name": "stdout",
     "output_type": "stream",
     "text": [
      "11\n",
      "11\n"
     ]
    }
   ],
   "source": [
    "#111) Wae to the given number is increased by 1\n",
    "m=10\n",
    "m+=1\n",
    "print(m)\n",
    "m=10\n",
    "m=m+1\n",
    "print(m)"
   ]
  },
  {
   "cell_type": "code",
   "execution_count": 21,
   "metadata": {},
   "outputs": [
    {
     "name": "stdout",
     "output_type": "stream",
     "text": [
      "14\n",
      "14\n"
     ]
    }
   ],
   "source": [
    "#112) Wae to the given number is increased by 2\n",
    "m=12\n",
    "m+=2\n",
    "print(m)\n",
    "m=12\n",
    "m=m+2\n",
    "print(m)"
   ]
  },
  {
   "cell_type": "code",
   "execution_count": 22,
   "metadata": {},
   "outputs": [
    {
     "name": "stdout",
     "output_type": "stream",
     "text": [
      "9\n",
      "9\n"
     ]
    }
   ],
   "source": [
    "#113) Wae to the given number is decreased by 1\n",
    "m=10\n",
    "m-=1\n",
    "print(m)\n",
    "m=10\n",
    "m=m-1\n",
    "print(m)"
   ]
  },
  {
   "cell_type": "code",
   "execution_count": 23,
   "metadata": {},
   "outputs": [
    {
     "name": "stdout",
     "output_type": "stream",
     "text": [
      "4\n",
      "4\n"
     ]
    }
   ],
   "source": [
    "#114) Wae to the given number is decreased by 3\n",
    "m=7\n",
    "m-=3\n",
    "print(m)\n",
    "m=7\n",
    "m=m-3\n",
    "print(m)"
   ]
  },
  {
   "cell_type": "code",
   "execution_count": 24,
   "metadata": {},
   "outputs": [
    {
     "name": "stdout",
     "output_type": "stream",
     "text": [
      "True\n",
      "False\n"
     ]
    }
   ],
   "source": [
    "#115)  Wae to check the given number is present in the collection\n",
    "n=10\n",
    "coll=[10,50,60,70,20]\n",
    "print(n in coll)\n",
    "n=100\n",
    "coll=[10,50,60,70,20]\n",
    "print(n in coll)"
   ]
  },
  {
   "cell_type": "code",
   "execution_count": 25,
   "metadata": {},
   "outputs": [
    {
     "name": "stdout",
     "output_type": "stream",
     "text": [
      "110\n",
      "110\n"
     ]
    }
   ],
   "source": [
    "#116) Wae to check perform the addition operations on A value and B value and final result should be updated to 'A'\n",
    "a=50\n",
    "b=60\n",
    "a=a+b\n",
    "print(a)\n",
    "a=50\n",
    "b=60\n",
    "a+=b\n",
    "print(a)"
   ]
  },
  {
   "cell_type": "code",
   "execution_count": 26,
   "metadata": {},
   "outputs": [
    {
     "name": "stdout",
     "output_type": "stream",
     "text": [
      "False\n",
      "True\n"
     ]
    }
   ],
   "source": [
    "#117)  Wae to check the given value is present in the collection\n",
    "st='p'\n",
    "coll=\"PYSPIDERS\"\n",
    "print(st in coll)\n",
    "st='P'\n",
    "coll=\"PYSPIDERS\"\n",
    "print(st in coll)\n"
   ]
  },
  {
   "cell_type": "code",
   "execution_count": 30,
   "metadata": {},
   "outputs": [
    {
     "name": "stdout",
     "output_type": "stream",
     "text": [
      "True\n",
      "True\n",
      "False\n"
     ]
    }
   ],
   "source": [
    "#118) Wae to check the given list is present in list\n",
    "a=[10,[20,30],40]\n",
    "b=[20,30]\n",
    "print(b in a)\n",
    "a=[10,[20,30],40]\n",
    "b=10\n",
    "print(b in a)\n",
    "a=[10,[20,30],40]\n",
    "b=[10,20]\n",
    "print(b in a)"
   ]
  },
  {
   "cell_type": "code",
   "execution_count": 31,
   "metadata": {},
   "outputs": [
    {
     "data": {
      "text/plain": [
       "False"
      ]
     },
     "execution_count": 31,
     "metadata": {},
     "output_type": "execute_result"
    }
   ],
   "source": [
    "#119) Wae to check the dic value is present in dic\n",
    "st=10\n",
    "coll={'a':10,'b':10,'c':30}\n",
    "st in coll"
   ]
  },
  {
   "cell_type": "code",
   "execution_count": 38,
   "metadata": {},
   "outputs": [
    {
     "name": "stdout",
     "output_type": "stream",
     "text": [
      "<class 'int'>\n",
      "True\n"
     ]
    }
   ],
   "source": [
    "#120) Wae to check given value is integer value or not\n",
    "b=15\n",
    "print(type(15))\n",
    "int\n",
    "print(type(b)==int)\n"
   ]
  },
  {
   "cell_type": "code",
   "execution_count": 1,
   "metadata": {},
   "outputs": [
    {
     "data": {
      "text/plain": [
       "str"
      ]
     },
     "execution_count": 1,
     "metadata": {},
     "output_type": "execute_result"
    }
   ],
   "source": [
    "#121) Wae to check given value is string value or not\n",
    "a='hai'\n",
    "type('hai')\n"
   ]
  },
  {
   "cell_type": "code",
   "execution_count": 2,
   "metadata": {},
   "outputs": [
    {
     "data": {
      "text/plain": [
       "True"
      ]
     },
     "execution_count": 2,
     "metadata": {},
     "output_type": "execute_result"
    }
   ],
   "source": [
    "#122) Wae to check the given value is single value or not\n",
    "c=b'1010'\n",
    "type(c) in [int, float,complex,bool,bytes,type(None)]"
   ]
  },
  {
   "cell_type": "code",
   "execution_count": 3,
   "metadata": {},
   "outputs": [
    {
     "data": {
      "text/plain": [
       "False"
      ]
     },
     "execution_count": 3,
     "metadata": {},
     "output_type": "execute_result"
    }
   ],
   "source": [
    "#123) Wae to check the given value should not single value \n",
    "c=b'1010'\n",
    "type(c) not in [int, float,complex,bool,bytes,type(None)]"
   ]
  },
  {
   "cell_type": "code",
   "execution_count": 4,
   "metadata": {},
   "outputs": [
    {
     "data": {
      "text/plain": [
       "True"
      ]
     },
     "execution_count": 4,
     "metadata": {},
     "output_type": "execute_result"
    }
   ],
   "source": [
    "#124) Wae to check the given value is multi value or not\n",
    "c='pys'\n",
    "type(c) not in [int, float,complex,bool,bytes,type(None)]"
   ]
  },
  {
   "cell_type": "code",
   "execution_count": 5,
   "metadata": {},
   "outputs": [
    {
     "data": {
      "text/plain": [
       "True"
      ]
     },
     "execution_count": 5,
     "metadata": {},
     "output_type": "execute_result"
    }
   ],
   "source": [
    "#125) Wae to check the given value is mutable or not\n",
    "c='pys'\n",
    "type(c) in [str,list,tuple,set,dict]"
   ]
  },
  {
   "cell_type": "code",
   "execution_count": 8,
   "metadata": {},
   "outputs": [
    {
     "data": {
      "text/plain": [
       "True"
      ]
     },
     "execution_count": 8,
     "metadata": {},
     "output_type": "execute_result"
    }
   ],
   "source": [
    "#126) Wae to check the given value is an immutable or not \n",
    "c=20\n",
    "type(c) in [int, float,complex,bool,bytes,type(None)]"
   ]
  },
  {
   "cell_type": "code",
   "execution_count": 9,
   "metadata": {},
   "outputs": [
    {
     "data": {
      "text/plain": [
       "True"
      ]
     },
     "execution_count": 9,
     "metadata": {},
     "output_type": "execute_result"
    }
   ],
   "source": [
    "#127) Wae to check it a given value is divisible by 6 as well as the value present in the collection or not\n",
    "n=36\n",
    "n%6==0 and n in [10,26,48,36,45,105]\n"
   ]
  },
  {
   "cell_type": "code",
   "execution_count": 10,
   "metadata": {},
   "outputs": [
    {
     "data": {
      "text/plain": [
       "3"
      ]
     },
     "execution_count": 10,
     "metadata": {},
     "output_type": "execute_result"
    }
   ],
   "source": [
    "#128) Wae to check perform the bitwise and operation given values are 15 and 19\n",
    "m=15\n",
    "n=19\n",
    "m&n"
   ]
  },
  {
   "cell_type": "code",
   "execution_count": 11,
   "metadata": {},
   "outputs": [
    {
     "data": {
      "text/plain": [
       "127"
      ]
     },
     "execution_count": 11,
     "metadata": {},
     "output_type": "execute_result"
    }
   ],
   "source": [
    "#129) Wae to check perform the bitwise or operation given values are 115 and 79\n",
    "m=115\n",
    "n=79\n",
    "m|n"
   ]
  },
  {
   "cell_type": "code",
   "execution_count": 12,
   "metadata": {},
   "outputs": [
    {
     "data": {
      "text/plain": [
       "46"
      ]
     },
     "execution_count": 12,
     "metadata": {},
     "output_type": "execute_result"
    }
   ],
   "source": [
    "#130) Wae to check perform the bitwise xor operation given values are 56 and 22\n",
    "m=56\n",
    "n=22\n",
    "m^n"
   ]
  },
  {
   "cell_type": "code",
   "execution_count": 14,
   "metadata": {},
   "outputs": [
    {
     "data": {
      "text/plain": [
       "-16"
      ]
     },
     "execution_count": 14,
     "metadata": {},
     "output_type": "execute_result"
    }
   ],
   "source": [
    "#131) Wae to check perform the bitwise not operation given values is 15 \n",
    "m=15\n",
    "~m"
   ]
  },
  {
   "cell_type": "code",
   "execution_count": 15,
   "metadata": {},
   "outputs": [
    {
     "data": {
      "text/plain": [
       "256"
      ]
     },
     "execution_count": 15,
     "metadata": {},
     "output_type": "execute_result"
    }
   ],
   "source": [
    "#132) Wae to check perform the bitwise left shift with 32 and skipping value is 3\n",
    "m=32\n",
    "n=3\n",
    "m<<n"
   ]
  },
  {
   "cell_type": "code",
   "execution_count": 16,
   "metadata": {},
   "outputs": [
    {
     "data": {
      "text/plain": [
       "6"
      ]
     },
     "execution_count": 16,
     "metadata": {},
     "output_type": "execute_result"
    }
   ],
   "source": [
    "#133) Wae to check perform the bitwise right shift with 25 and skipping value is 2\n",
    "m=25\n",
    "n=2\n",
    "m>>n"
   ]
  },
  {
   "cell_type": "code",
   "execution_count": 17,
   "metadata": {},
   "outputs": [
    {
     "data": {
      "text/plain": [
       "1000"
      ]
     },
     "execution_count": 17,
     "metadata": {},
     "output_type": "execute_result"
    }
   ],
   "source": [
    "#134) To find out output of a given condition\n",
    "(10+20^80 and 10**3) or ({10,20} or not ([15-16]))"
   ]
  },
  {
   "cell_type": "code",
   "execution_count": 18,
   "metadata": {},
   "outputs": [
    {
     "data": {
      "text/plain": [
       "True"
      ]
     },
     "execution_count": 18,
     "metadata": {},
     "output_type": "execute_result"
    }
   ],
   "source": [
    "#135) Wae to check if a given key is present in a dict\n",
    "d={'a':10,'haii':'bye',(100,):(10,20)}\n",
    "k='a'\n",
    "k in d"
   ]
  },
  {
   "cell_type": "code",
   "execution_count": 20,
   "metadata": {},
   "outputs": [
    {
     "name": "stdout",
     "output_type": "stream",
     "text": [
      "False\n",
      "True\n"
     ]
    }
   ],
   "source": [
    "#136) Wae to check if a given value is present in a dict\n",
    "d={'a':10,'haii':'bye',(100,):(10,20)}\n",
    "k=10\n",
    "print(k in d)\n",
    "print(k in d.values())"
   ]
  },
  {
   "cell_type": "code",
   "execution_count": 36,
   "metadata": {},
   "outputs": [
    {
     "name": "stdout",
     "output_type": "stream",
     "text": [
      "True\n",
      "False\n"
     ]
    }
   ],
   "source": [
    "#137) Wae to check if the key  is not present in a dict or not \n",
    "d={'a':10,'haii':'bye',(100,):(10,20)}\n",
    "k='a'\n",
    "print( k in d)\n",
    "print( k  not in d)"
   ]
  },
  {
   "cell_type": "code",
   "execution_count": 34,
   "metadata": {},
   "outputs": [
    {
     "name": "stdout",
     "output_type": "stream",
     "text": [
      "True\n"
     ]
    }
   ],
   "source": [
    "#138) Wae to check if key value pair  is present in a dict or not\n",
    "d={'a':10,'haii':'bye',(100,):(10,20)}\n",
    "k=('a',10)\n",
    "print(k in d.items())\n"
   ]
  },
  {
   "cell_type": "code",
   "execution_count": 29,
   "metadata": {},
   "outputs": [
    {
     "name": "stdout",
     "output_type": "stream",
     "text": [
      "True\n"
     ]
    }
   ],
   "source": [
    "#139) Wae to check if two values are pointing to same address or not\n",
    "a=15\n",
    "b=15\n",
    "print(a is b)\n"
   ]
  },
  {
   "cell_type": "code",
   "execution_count": 30,
   "metadata": {},
   "outputs": [
    {
     "data": {
      "text/plain": [
       "True"
      ]
     },
     "execution_count": 30,
     "metadata": {},
     "output_type": "execute_result"
    }
   ],
   "source": [
    "#140) Wae to check both the values should be integer and both the values are pointing to same address\n",
    "a=256\n",
    "b=256\n",
    "type(a==int) and type (b)==int and a is b"
   ]
  },
  {
   "cell_type": "code",
   "execution_count": 13,
   "metadata": {},
   "outputs": [
    {
     "name": "stdout",
     "output_type": "stream",
     "text": [
      "given value is positive\n"
     ]
    }
   ],
   "source": [
    "#1) Wap to check whether a number is positive, print a message positive\n",
    "n=10\n",
    "if(n>=0):\n",
    "    print(\"given value is positive\")\n"
   ]
  },
  {
   "cell_type": "code",
   "execution_count": 25,
   "metadata": {},
   "outputs": [
    {
     "name": "stdout",
     "output_type": "stream",
     "text": [
      "helloworld!...\n"
     ]
    }
   ],
   "source": [
    "#2) Wap to display hello world if the number is greater than 1 and lesser than 5\n",
    "n=3\n",
    "a=\"helloworld\"\n",
    "if 1<3<5:\n",
    "    print(\"helloworld!...\")\n"
   ]
  },
  {
   "cell_type": "code",
   "execution_count": 27,
   "metadata": {},
   "outputs": [
    {
     "name": "stdout",
     "output_type": "stream",
     "text": [
      "Fizz..\n"
     ]
    }
   ],
   "source": [
    "#3) Wap to check whether the given number is divisible by 3 or not if print fizz.\n",
    "n=15\n",
    "if n%3==0:\n",
    "    print(\"Fizz..\")\n",
    "    "
   ]
  },
  {
   "cell_type": "code",
   "execution_count": 28,
   "metadata": {},
   "outputs": [
    {
     "name": "stdout",
     "output_type": "stream",
     "text": [
      "36j\n",
      "(36+0j)\n",
      "(36+36j)\n"
     ]
    }
   ],
   "source": [
    "#4)wap to check whether given input is divisible by 2 and 6.if the condition is satisfied,convert the given number in to complex number\n",
    "n=36\n",
    "if n%2==0 and n%6==0:\n",
    "    print(complex(imag=n))\n",
    "    print(complex(real=n))\n",
    "    print(complex(real=n,imag=n))"
   ]
  },
  {
   "cell_type": "code",
   "execution_count": 5,
   "metadata": {},
   "outputs": [
    {
     "name": "stdout",
     "output_type": "stream",
     "text": [
      "['3', '0']\n"
     ]
    }
   ],
   "source": [
    "#5)wap to check whether given input is divisible by 3 and 5.if the condition is satisfied,convert the given number in to list\n",
    "#i/p=30\n",
    "#o/p=['3','0']\n",
    "n=30\n",
    "if n%3==0 and n%5==0:\n",
    "    n=str(n)\n",
    "    print(list(n))\n",
    "\n"
   ]
  },
  {
   "cell_type": "code",
   "execution_count": 38,
   "metadata": {},
   "outputs": [
    {
     "name": "stdout",
     "output_type": "stream",
     "text": [
      "given number is multiple of 5\n"
     ]
    }
   ],
   "source": [
    "#6) write a program to check whether a given number is multiple of 5 0r not\n",
    "n=10\n",
    "if n%5==0:\n",
    "    print(\"given number is multiple of 5\")\n"
   ]
  },
  {
   "cell_type": "code",
   "execution_count": 39,
   "metadata": {},
   "outputs": [
    {
     "name": "stdout",
     "output_type": "stream",
     "text": [
      "0\n"
     ]
    }
   ],
   "source": [
    "#7) wap to check whether the given input is 0 or not if 0 print 0.\n",
    "n=0\n",
    "if n==0:\n",
    "    print(n)"
   ]
  },
  {
   "cell_type": "code",
   "execution_count": 41,
   "metadata": {},
   "outputs": [
    {
     "name": "stdout",
     "output_type": "stream",
     "text": [
      "given value is negative\n"
     ]
    }
   ],
   "source": [
    "#8) Wap to check whether a number is negative, print a message negative\n",
    "n=-10\n",
    "if(n<=0):\n",
    "    print(\"given value is negative\")\n"
   ]
  },
  {
   "cell_type": "code",
   "execution_count": 32,
   "metadata": {},
   "outputs": [
    {
     "name": "stdout",
     "output_type": "stream",
     "text": [
      "[10, 20, 14, 30]\n",
      "[10, 30, 20, 14]\n"
     ]
    }
   ],
   "source": [
    "#9) wap to check whether a number is even or not. if even, store the value inside the list\n",
    "l=[10,20,14]\n",
    "n=30\n",
    "if n%2==0:\n",
    "    l.append(n)\n",
    "    print(l)\n",
    "\n",
    "l=[10,20,14]\n",
    "n=30\n",
    "if n%2==0:\n",
    "    l.insert(1,n)\n",
    "    print(l)"
   ]
  },
  {
   "cell_type": "code",
   "execution_count": 36,
   "metadata": {},
   "outputs": [
    {
     "name": "stdout",
     "output_type": "stream",
     "text": [
      "(10, 20, 3)\n"
     ]
    }
   ],
   "source": [
    "#10) wap to check whether a number is odd or not. if even, store the value inside the tuple\n",
    "l=(10,20)\n",
    "n=3\n",
    "if n%2!=0:\n",
    "    l+=(n,)\n",
    "    print(l)"
   ]
  },
  {
   "cell_type": "code",
   "execution_count": 57,
   "metadata": {},
   "outputs": [
    {
     "name": "stdout",
     "output_type": "stream",
     "text": [
      "256\n"
     ]
    }
   ],
   "source": [
    "#11)) wap to check whether a number is even or not. if even, if it is yes to print the power of 4 in a given number\n",
    "n=4\n",
    "if n%2==0:\n",
    "    print(4**4)\n"
   ]
  },
  {
   "cell_type": "code",
   "execution_count": 12,
   "metadata": {},
   "outputs": [
    {
     "name": "stdout",
     "output_type": "stream",
     "text": [
      "yes 23\n"
     ]
    }
   ],
   "source": [
    "#12) WAP to take the input from the user as a number and check whether it is a number or not. if yes, \n",
    "#take the number and add some value and print it.\n",
    "n=int(input(\" enter number\"))\n",
    "if type(n) in [int,float,complex,bytes]:\n",
    "    print(\"yes\",n+1)"
   ]
  },
  {
   "cell_type": "code",
   "execution_count": 38,
   "metadata": {},
   "outputs": [
    {
     "name": "stdout",
     "output_type": "stream",
     "text": [
      "hello world\n"
     ]
    }
   ],
   "source": [
    "#13) WAP to display hello world if the number is greater than 1 and less than 5. \"\"\"\n",
    "\n",
    "n=3\n",
    "if 1<n<5:\n",
    "    print(\"hello world\")\n",
    "n=5\n",
    "if 1<n<5:\n",
    "    print(\"hello world\")"
   ]
  },
  {
   "cell_type": "code",
   "execution_count": 58,
   "metadata": {},
   "outputs": [
    {
     "name": "stdout",
     "output_type": "stream",
     "text": [
      "1225\n"
     ]
    }
   ],
   "source": [
    "#14)wap to check whether given input is divisible by 5 and 7.if the condition is satisfied, to display the square of the values\n",
    "n=35\n",
    "if n%5==0 and n%7==0:\n",
    "    print(35**2)\n",
    "\n"
   ]
  },
  {
   "cell_type": "code",
   "execution_count": 43,
   "metadata": {},
   "outputs": [
    {
     "name": "stdout",
     "output_type": "stream",
     "text": [
      "right shift is 6\n",
      "left shift is 108\n"
     ]
    }
   ],
   "source": [
    "#15)wap to check whether given values's last digit is greater than 5 or not. if greater , to perform the bitwise right shift operator(skipping value is 2)\n",
    "n=27\n",
    "if n%10>5:\n",
    "    print(\"right shift is\", n>>2)\n",
    "    print(\"left shift is\", n<<2)\n",
    "    "
   ]
  },
  {
   "cell_type": "code",
   "execution_count": 66,
   "metadata": {},
   "outputs": [
    {
     "name": "stdout",
     "output_type": "stream",
     "text": [
      "729\n"
     ]
    }
   ],
   "source": [
    "#15)wap to check whether given number is divisible by 3 and and less than 30.if the condition is satisfied, to display the square of the values\n",
    "n=27\n",
    "if n%3==0 and n<30:\n",
    "    print(27**2)"
   ]
  },
  {
   "cell_type": "code",
   "execution_count": 44,
   "metadata": {},
   "outputs": [
    {
     "name": "stdout",
     "output_type": "stream",
     "text": [
      "8\n"
     ]
    }
   ],
   "source": [
    "#16)wap to check whether given number is an even number and divisible by 4 a.if the condition is satisfied, to display the cube of the values\n",
    "n=8\n",
    "if n%2==0 and n%4==0:\n",
    "    print(2**3)"
   ]
  },
  {
   "cell_type": "code",
   "execution_count": 46,
   "metadata": {},
   "outputs": [
    {
     "name": "stdout",
     "output_type": "stream",
     "text": [
      "[10, 20, 30]\n"
     ]
    }
   ],
   "source": [
    "#17)wap to check whether given input is divisible by 3 and 5.if the condition is satisfied,convert the given number in to list\n",
    "#i/p=30\n",
    "#o/p=['3','0']\n",
    "l=[10,20]\n",
    "n=30\n",
    "if n%3==0 and n%5==0:\n",
    "    l+=[n]\n",
    "    print(l)\n",
    "\n"
   ]
  },
  {
   "cell_type": "code",
   "execution_count": 49,
   "metadata": {},
   "outputs": [
    {
     "name": "stdout",
     "output_type": "stream",
     "text": [
      "the last digit is: 4\n"
     ]
    }
   ],
   "source": [
    "#18) Wap to check whether the given value is a negative or even number. if satisfied to display the last digit of the value \n",
    "n=24\n",
    "if n%2==0 or n<0:\n",
    "    print(\"the last digit is:\",n%10)"
   ]
  },
  {
   "cell_type": "code",
   "execution_count": 50,
   "metadata": {},
   "outputs": [
    {
     "name": "stdout",
     "output_type": "stream",
     "text": [
      "-64\n"
     ]
    }
   ],
   "source": [
    "#19)wap to check whether given number is a negative or odd number and divisible by 4 a.if the condition is satisfied, to display the cube of the values\n",
    "n=-4\n",
    "if n<=0 and n%4==0:\n",
    "    print(-4**3)"
   ]
  },
  {
   "cell_type": "code",
   "execution_count": 51,
   "metadata": {},
   "outputs": [
    {
     "name": "stdout",
     "output_type": "stream",
     "text": [
      "d\n"
     ]
    }
   ],
   "source": [
    "#20) WAP to check whether a given ascii value is divisible by 4 and even value. If satisfied, to display the ascii character.\"\"\"\n",
    "n=100\n",
    "if n%4==0 and n%2==0:\n",
    "      print(chr(n))\n"
   ]
  },
  {
   "cell_type": "code",
   "execution_count": 52,
   "metadata": {},
   "outputs": [
    {
     "name": "stdout",
     "output_type": "stream",
     "text": [
      "x\n"
     ]
    }
   ],
   "source": [
    "#21) WAP to check whether a given value is present in between 45 to 125 and the number should be divisible by 4 and 5 and even value. If satisfied, to display the ascii character.\"\"\"\n",
    "\n",
    "n=120\n",
    "if 45<n<125 and n%4==0 and n%5==0:\n",
    "    print(chr(n))\n",
    "   "
   ]
  },
  {
   "cell_type": "code",
   "execution_count": 53,
   "metadata": {},
   "outputs": [
    {
     "name": "stdout",
     "output_type": "stream",
     "text": [
      "300\n"
     ]
    }
   ],
   "source": [
    "#22) WAP to check whether a given value is present in between 25 to 100 and the number should be divisible by 4 and 5.\n",
    "# If satisfied, to display multiplication of given value with 5.\n",
    "\n",
    "n=60\n",
    "if 25<n<100 and n%4==0 and n%5==0:\n",
    "    print(n*5)"
   ]
  },
  {
   "cell_type": "code",
   "execution_count": 55,
   "metadata": {},
   "outputs": [
    {
     "name": "stdout",
     "output_type": "stream",
     "text": [
      "24.0\n"
     ]
    }
   ],
   "source": [
    "#23) WAP to check whether a given number is an integer and odd number. \n",
    "#If the condition is satisfied, the integer is divisible by 5 and displays the result\"\"\"\n",
    "n=120\n",
    "if n>0 and n%5==0:\n",
    "    print(n/5)"
   ]
  },
  {
   "cell_type": "code",
   "execution_count": 15,
   "metadata": {},
   "outputs": [
    {
     "name": "stdout",
     "output_type": "stream",
     "text": [
      "100\n",
      "<class 'str'>\n"
     ]
    }
   ],
   "source": [
    "#24) WAP to check whether a given value is an integer or not. \n",
    "#If integer, the given value is converted to string and displays the result.\"\"\"\n",
    "\n",
    "n=100\n",
    "if n<0 or n>0:\n",
    "    n=str(n)\n",
    "    print(n)\n",
    "    print(type(n))"
   ]
  },
  {
   "cell_type": "code",
   "execution_count": 20,
   "metadata": {},
   "outputs": [
    {
     "name": "stdout",
     "output_type": "stream",
     "text": [
      "e\n"
     ]
    }
   ],
   "source": [
    "#25) WAP to check whether a given value is less than 125 and greater than 60 or not. If the condition is satisfied, \n",
    "#take the name and extract the middle character and display it.\"\"\"\n",
    "\n",
    "n=100\n",
    "if 60<n<125:\n",
    "    ch=\"heelo\"\n",
    "    print(ch[len(ch)//2])"
   ]
  },
  {
   "cell_type": "code",
   "execution_count": 59,
   "metadata": {},
   "outputs": [
    {
     "name": "stdout",
     "output_type": "stream",
     "text": [
      "20\n"
     ]
    }
   ],
   "source": [
    "#26) WAP to check whether a given two integers are equal or not. If both are equal, to perform addition and display the result.\"\"\"\n",
    "\n",
    "a=10\n",
    "b=10\n",
    "if a==b:\n",
    "    c=a+b\n",
    "    print(c)"
   ]
  },
  {
   "cell_type": "code",
   "execution_count": 61,
   "metadata": {},
   "outputs": [
    {
     "name": "stdout",
     "output_type": "stream",
     "text": [
      "25\n",
      "8.333333333333334\n"
     ]
    }
   ],
   "source": [
    "#27) WAP to check whether two values are equal or not. if equal, to perform multiplication of two numbers and that result is division by 3 and display the value. \"\"\"\n",
    "\n",
    "a=5\n",
    "b=5\n",
    "if a==b:\n",
    "    c=a*b\n",
    "    print(c)\n",
    "    print(c/3)"
   ]
  },
  {
   "cell_type": "code",
   "execution_count": 2,
   "metadata": {},
   "outputs": [
    {
     "name": "stdout",
     "output_type": "stream",
     "text": [
      "{'a': 97}\n",
      "{'a': 100, 'A': 65}\n"
     ]
    }
   ],
   "source": [
    "#28) WAP to check whether a character is in the alphabet or not. If the alphabet, store the value inside the dict(key as a character and value as an ascii value).\"\"\"\n",
    "d={}\n",
    "ch=\"a\"\n",
    "if \"a\"<=ch<=\"z\" or \"A\"<=ch<=\"Z\":\n",
    "    d[ch]=ord(ch)\n",
    "    print(d)\n",
    "\n",
    "d={\"a\":100}\n",
    "ch=\"A\"\n",
    "if \"a\"<=ch<=\"z\" or \"A\"<=ch<=\"Z\":\n",
    "    d[ch]=ord(ch)\n",
    "    print(d)"
   ]
  },
  {
   "cell_type": "code",
   "execution_count": 62,
   "metadata": {},
   "outputs": [
    {
     "name": "stdout",
     "output_type": "stream",
     "text": [
      "{'d': 100, 'Z': 90}\n"
     ]
    }
   ],
   "source": [
    " #29) WAP to check whether a character is in the uppercase or not. If the uppercase, store the value inside the dict(key as a character and value as an ascii value).\"\"\"\n",
    "\n",
    "d={\"d\":100}\n",
    "ch=\"Z\"\n",
    "if \"A\"<=ch<=\"Z\":\n",
    "    d[ch]=ord(ch)\n",
    "    print(d)"
   ]
  },
  {
   "cell_type": "code",
   "execution_count": 2,
   "metadata": {},
   "outputs": [
    {
     "name": "stdout",
     "output_type": "stream",
     "text": [
      "{'s': 115}\n"
     ]
    }
   ],
   "source": [
    "#30) WAP to check whether a character is in the uppercase or not. \n",
    "#If the uppercase, convert to lowercase and store the value inside the dict(character as a key and ascii value as a value).\"\"\"\n",
    "\n",
    "d={}\n",
    "ch=\"S\"\n",
    "if \"A\"<=ch<=\"Z\":\n",
    "    t=chr(ord(ch)+32)\n",
    "    d[t]=ord(t)\n",
    "    print(d)"
   ]
  },
  {
   "cell_type": "code",
   "execution_count": 63,
   "metadata": {},
   "outputs": [
    {
     "name": "stdout",
     "output_type": "stream",
     "text": [
      "jjjjjjjjjj\n"
     ]
    }
   ],
   "source": [
    "#31) WAP to check whether a character is in the lowercase or not. \n",
    "#If the lowercase, to perform the replication operation on that character.\"\"\"\n",
    "  \n",
    "ch=\"j\"\n",
    "if \"a\"<=ch<=\"z\":\n",
    "    print(ch*10)"
   ]
  },
  {
   "cell_type": "code",
   "execution_count": 64,
   "metadata": {},
   "outputs": [
    {
     "name": "stdout",
     "output_type": "stream",
     "text": [
      "65\n"
     ]
    }
   ],
   "source": [
    "#32) WAP to check whether a character is in the ascii number or not. If the ascii number, to convert into integer.\"\"\"\n",
    "\n",
    "n=\"A\"\n",
    "if 0<=ord(n)<=127:\n",
    "    print(ord(n))"
   ]
  },
  {
   "cell_type": "code",
   "execution_count": 65,
   "metadata": {},
   "outputs": [
    {
     "name": "stdout",
     "output_type": "stream",
     "text": [
      "64\n"
     ]
    }
   ],
   "source": [
    "#33) WAP to check whether a character is in the special symbol or not. If the special symbol, to display a symbol with ascii value.\"\"\"\n",
    "\n",
    "ch=\"@\"\n",
    "if ((0<=ord(ch)<=47 or 58<=ord(ch)<=64) or (91<=ord(ch)<=96 or 123<=ord(ch)<=127)):\n",
    "    print(ord(ch))"
   ]
  },
  {
   "cell_type": "code",
   "execution_count": 66,
   "metadata": {},
   "outputs": [
    {
     "name": "stdout",
     "output_type": "stream",
     "text": [
      "66\n"
     ]
    }
   ],
   "source": [
    "#34) WAP to check whether a character is an even number or not. If the even number, \n",
    "#to display an even number.\"\"\"\n",
    "\n",
    "ch=\"B\"\n",
    "if ord(ch)%2==0:\n",
    "    print(ord(ch))"
   ]
  },
  {
   "cell_type": "code",
   "execution_count": 17,
   "metadata": {},
   "outputs": [
    {
     "name": "stdout",
     "output_type": "stream",
     "text": [
      "square 900\n",
      "square 100\n",
      "false\n"
     ]
    }
   ],
   "source": [
    "#35) WAP to check whether a Given two integers a and b, if any of the integers is 10 or if their sum is 10, to perform the sum of the numbers and to display the square of the result.\"\"\"\n",
    "a=10\n",
    "b=20\n",
    "if a==10 or b==10 or a+b==10:\n",
    "    c=a+b\n",
    "    print(\"square\",c**2)\n",
    "\n",
    "a=5\n",
    "b=5\n",
    "if a==10 or b==10 or a+b==10:\n",
    "    c=a+b\n",
    "    print(\"square\",c**2)\n",
    "\n",
    "a=15\n",
    "b=5\n",
    "if a==10 or b==10 or a+b==10:\n",
    "    c=a+b\n",
    "    print(\"square\",c**2)\n",
    "print(\"false\")"
   ]
  },
  {
   "cell_type": "code",
   "execution_count": 67,
   "metadata": {},
   "outputs": [
    {
     "name": "stdout",
     "output_type": "stream",
     "text": [
      "f\n"
     ]
    }
   ],
   "source": [
    "#36) WAP to check whether a character is in the vowel or not. If the vowel,print the next character.\"\"\"\n",
    "\n",
    "ch=\"e\"\n",
    "if ch in \"AEIOUaeiou\":\n",
    "    print(chr(ord(ch)+1))"
   ]
  },
  {
   "cell_type": "code",
   "execution_count": 68,
   "metadata": {},
   "outputs": [
    {
     "name": "stdout",
     "output_type": "stream",
     "text": [
      "d\n"
     ]
    }
   ],
   "source": [
    " #37) WAP to check whether a character is in the not a vowel. If it's not a vowel,print the previous character.\"\"\"\n",
    "\n",
    "ch=\"e\"\n",
    "if ch in \"AEIOUaeiou\":\n",
    "    print(chr(ord(ch)-1))\n"
   ]
  },
  {
   "cell_type": "code",
   "execution_count": 69,
   "metadata": {},
   "outputs": [
    {
     "name": "stdout",
     "output_type": "stream",
     "text": [
      "<class 'float'>\n"
     ]
    }
   ],
   "source": [
    " #38) WAP to check whether a given value is a single value data type or not. \n",
    "#If single value, display the given value as a single value data type.\"\"\"\n",
    "\n",
    "l1=[int,float,complex,bytes]\n",
    "n=10.23\n",
    "if type(n) in l1:\n",
    "    print(type(n))\n"
   ]
  },
  {
   "cell_type": "code",
   "execution_count": 71,
   "metadata": {},
   "outputs": [
    {
     "name": "stdout",
     "output_type": "stream",
     "text": [
      "<class 'list'>\n",
      "it is multi value dt (1, 2, 3)\n"
     ]
    }
   ],
   "source": [
    "#39) WAP to check whether a given value is a multi-value data type or not. \n",
    "#If multi value, store the given value inside the tuple and display it.\"\"\"\n",
    "\n",
    "l1=[list,tuple,set,dict,str]\n",
    "a=[1,2,3]\n",
    "if type(a) in l1:\n",
    "    print(type(a))\n",
    "\n",
    "l1=[list,tuple,set,dict,str]\n",
    "a={1,2,3}\n",
    "if type(a) in l1:\n",
    "    print(\"it is multi value dt\",tuple(a))\n",
    "  "
   ]
  },
  {
   "cell_type": "code",
   "execution_count": 11,
   "metadata": {},
   "outputs": [
    {
     "name": "stdout",
     "output_type": "stream",
     "text": [
      "{'t', 'r', 's'}\n"
     ]
    }
   ],
   "source": [
    "#40) WAP to check whether a given value is an immutable data type or not.\n",
    "# If an immutable data type value, store the given value inside the set and display it.\"\"\"\n",
    "\n",
    "l1=[str,tuple]\n",
    "a=\"str\"\n",
    "if type(a) in l1:\n",
    "    print(set(a))"
   ]
  },
  {
   "cell_type": "code",
   "execution_count": 12,
   "metadata": {},
   "outputs": [
    {
     "name": "stdout",
     "output_type": "stream",
     "text": [
      "the middle element of the list is odd\n",
      "4\n"
     ]
    }
   ],
   "source": [
    "#41) WAP to check whether the middle element of a given list is odd or not. \n",
    "#If it is odd then print odd then print the number else directly print the number \"\"\"\n",
    "\n",
    "l1=[1,2,3,4,5]\n",
    "a=len(l1)\n",
    "b=l1[a//2]\n",
    "if b%2!=0:\n",
    "    print(\"the middle element of the list is odd\")\n",
    "\n",
    "else:\n",
    "    print(b)\n"
   ]
  },
  {
   "cell_type": "code",
   "execution_count": 13,
   "metadata": {},
   "outputs": [
    {
     "name": "stdout",
     "output_type": "stream",
     "text": [
      "the string is unmodified\n",
      "not string\n",
      "string\n"
     ]
    }
   ],
   "source": [
    "#42) WAP Return a new string with \"not\" prefixed to the front of the original string. \n",
    "#Return the string unmodified if the string already has the word \"not\" at the beginning.\"\"\"\n",
    "\n",
    "s=\"not string\"\n",
    "if s[0:3]==\"not\":\n",
    "    print(\"the string is unmodified\")\n",
    "print(s)\n",
    "\n",
    "s=\"string\"\n",
    "if s[0:3]==\"not\":\n",
    "    print(\"the string is unmodified\")\n",
    "print(s)"
   ]
  },
  {
   "cell_type": "code",
   "execution_count": 14,
   "metadata": {},
   "outputs": [
    {
     "name": "stdout",
     "output_type": "stream",
     "text": [
      "python tring\n",
      "python strin\n"
     ]
    }
   ],
   "source": [
    "#43) WAP to check whether a given string(str) and one integer(n) value, \n",
    "#to display a new string that is devoid of the character at index n. if you are given a non-empty string and an int n. The value of n will be a legitimate character index from the original string, therefore it will fall within the range of 0 to len(str)-1, inclusive.\"\"\"\n",
    "\n",
    "str=\"python string\"\n",
    "len(str)\n",
    "n=7\n",
    "if n<=(len(str)-1):\n",
    "    # print(\"nn\")\n",
    "    a=str[0:n]+str[n+1:]\n",
    "    print(a)\n",
    "\n",
    "str=\"python string\"\n",
    "len(str)\n",
    "n=12\n",
    "if n<=(len(str)-1):\n",
    "    # print(\"nn\")\n",
    "    a=str[0:n]+str[n+1:]\n",
    "    print(a)"
   ]
  },
  {
   "cell_type": "code",
   "execution_count": 72,
   "metadata": {},
   "outputs": [
    {
     "name": "stdout",
     "output_type": "stream",
     "text": [
      "140716691481672\n",
      "140716691481672\n"
     ]
    }
   ],
   "source": [
    "#44) WAP to check whether the two variables are pointing to the same memory location or not if they are pointing to the same memory location then print the address of both the variables\"\"\"\n",
    "\n",
    "a=10\n",
    "b=10\n",
    "if id(a)==id(b):\n",
    "    print(id(a))\n",
    "    print(id(b))"
   ]
  },
  {
   "cell_type": "code",
   "execution_count": 16,
   "metadata": {},
   "outputs": [
    {
     "name": "stdout",
     "output_type": "stream",
     "text": [
      "python is a programming langua\n"
     ]
    }
   ],
   "source": [
    " #45)WAP to check whether the given length of the string is even or not. If the condition is satisfied, display the sequence of characters from zero position to length of collection -2.\"\"\"\n",
    "\n",
    "s=\"python is a programming language\"\n",
    "a=len(s)\n",
    "if a%2==0:\n",
    "    print(s[:-2])"
   ]
  },
  {
   "cell_type": "code",
   "execution_count": 73,
   "metadata": {},
   "outputs": [
    {
     "name": "stdout",
     "output_type": "stream",
     "text": [
      "before swapping\n",
      "s python\n",
      "t PYTHON\n",
      "after swapping\n",
      "s PYTHON\n",
      "t python\n"
     ]
    }
   ],
   "source": [
    "#46)WAP to check whether the two given strings are having the same values or not.\n",
    "# If both are not the same values then swap the values of one variable to another variable after swapping print the two values.\"\"\"\n",
    "\n",
    "s=\"python\"\n",
    "t=\"PYTHON\"\n",
    "print(\"before swapping\")\n",
    "print(\"s\",s)\n",
    "print(\"t\",t)\n",
    "if s!=t:\n",
    "    temp=s\n",
    "    s=t\n",
    "    t=temp\n",
    "    print(\"after swapping\")\n",
    "    print(\"s\",s)\n",
    "    print(\"t\",t)"
   ]
  },
  {
   "cell_type": "code",
   "execution_count": 74,
   "metadata": {},
   "outputs": [
    {
     "name": "stdout",
     "output_type": "stream",
     "text": [
      "35\n",
      "{'#': 35}\n",
      "false\n",
      "97\n",
      "false\n",
      "64\n",
      "{'@': 64}\n",
      "false\n"
     ]
    }
   ],
   "source": [
    "#47) WAP to check whether a given character is a special symbol or not. \n",
    "#If satisfied, store the symbol as a key and value as a ascii value of the given character inside the dictionary\"\"\"\n",
    "d={}\n",
    "ch=\"#\"\n",
    "print(ord(ch))\n",
    "if ((0<=ord(ch)<=47 or 58<=ord(ch)<=65) or (91<=ord(ch)<=96 or 123<=ord(ch)<=127)):\n",
    "    d[ch]=ord(ch)\n",
    "    print(d)\n",
    "print(\"false\")\n",
    "\n"
   ]
  },
  {
   "cell_type": "code",
   "execution_count": 1,
   "metadata": {},
   "outputs": [
    {
     "name": "stdout",
     "output_type": "stream",
     "text": [
      "{'a': 10, 'b': 20, 'c': 30, 'd': 40}\n",
      "false\n",
      "false\n"
     ]
    }
   ],
   "source": [
    "#48)WAP to check whether a given key is not present in the dictionary or not. \n",
    "#If the key is not present, append the new key inside the dictionary \"\"\"  \n",
    "\n",
    "\n",
    "\n",
    "d={\"a\":10,\"b\":20,\"c\":30}\n",
    "if \"d\" not in d:\n",
    "    d[\"d\"]=40\n",
    "    print(d)\n",
    "print(\"false\")\n",
    "\n",
    "d={\"a\":10,\"b\":20,\"c\":30}\n",
    "if \"b\" not in d:\n",
    "    d[\"d\"]=40\n",
    "    print(d)\n",
    "print(\"false\")"
   ]
  },
  {
   "cell_type": "code",
   "execution_count": null,
   "metadata": {},
   "outputs": [],
   "source": [
    "#49) WAP to check whether it is string, and it displays a new string with the first and last characters switched.\"\"\"\n",
    "\n",
    "s=\"python\"\n",
    "if type(s)==str:\n",
    "    res=s[-1]+s[1:len(s)-1]+s[0]\n",
    "print(res)\n",
    "\n",
    "s=\"programming\"\n",
    "if type(s)==str:\n",
    "    res=s[-1]+s[1:len(s)-1]+s[0]\n",
    "print(res)"
   ]
  },
  {
   "cell_type": "code",
   "execution_count": null,
   "metadata": {},
   "outputs": [],
   "source": [
    "#50) WAP to check whether the last digit should be 2 in the given number then print the last digit.\"\"\"\n",
    "\n",
    "n=252\n",
    "a=n%10\n",
    "if a==2:\n",
    "    print(\"the last digit {}\".format(a))\n",
    "n=254\n",
    "a=n%10\n",
    "if a==2:\n",
    "    print(\"the last digit {}\".format(a))\n",
    "print(\"false\")\n"
   ]
  },
  {
   "cell_type": "code",
   "execution_count": null,
   "metadata": {},
   "outputs": [],
   "source": [
    "#51) WAP to check whether both string collections are equal or not if it is not equal print the both strings along with the length of a string if both are equal ignore it\"\"\"\n",
    "\n",
    "s1=\"programe\"\n",
    "s2=\"program\"\n",
    "if s1!=s2:\n",
    "    print(s1,len(s1))\n",
    "    print(s2,len(s2))"
   ]
  }
 ],
 "metadata": {
  "kernelspec": {
   "display_name": "Python 3",
   "language": "python",
   "name": "python3"
  },
  "language_info": {
   "codemirror_mode": {
    "name": "ipython",
    "version": 3
   },
   "file_extension": ".py",
   "mimetype": "text/x-python",
   "name": "python",
   "nbconvert_exporter": "python",
   "pygments_lexer": "ipython3",
   "version": "3.11.4"
  },
  "orig_nbformat": 4
 },
 "nbformat": 4,
 "nbformat_minor": 2
}
