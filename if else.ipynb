{
 "cells": [
  {
   "cell_type": "code",
   "execution_count": 14,
   "metadata": {},
   "outputs": [
    {
     "name": "stdout",
     "output_type": "stream",
     "text": [
      "given value is positive\n"
     ]
    }
   ],
   "source": [
    "#1)WAP to check whether a number is positive or negative. If Positive print positive message or else print Negative Number.\n",
    "n=5\n",
    "if n>=0:\n",
    "    print(\"given value is positive\")\n",
    "else:\n",
    "    print(\"given value is negative\")\n"
   ]
  },
  {
   "cell_type": "code",
   "execution_count": 1,
   "metadata": {},
   "outputs": [
    {
     "name": "stdout",
     "output_type": "stream",
     "text": [
      "even\n"
     ]
    }
   ],
   "source": [
    "#2)WAP to check whether a number is even or odd. If even, print message an even or else print message as odd.\n",
    "n=2\n",
    "if n%2==0:\n",
    "    print(\"even\")\n",
    "else:\n",
    "    print(\"odd\")"
   ]
  },
  {
   "cell_type": "code",
   "execution_count": 13,
   "metadata": {},
   "outputs": [
    {
     "name": "stdout",
     "output_type": "stream",
     "text": [
      "greater\n",
      "9 not a greater than\n"
     ]
    }
   ],
   "source": [
    "#3)Write a program to check whether a given number is greater than 10 or not. if itis greater than 10 print message as greater or else print that number with not agreater than.\n",
    "n=12\n",
    "if n>10:\n",
    "    print(\"greater\")\n",
    "else:\n",
    "    print(n,\"not greater than\")\n",
    "\n",
    "n=9\n",
    "if n>10:\n",
    "    print(\"greater\")\n",
    "else:\n",
    "    print(n,\"not a greater than\")"
   ]
  },
  {
   "cell_type": "code",
   "execution_count": 11,
   "metadata": {},
   "outputs": [
    {
     "name": "stdout",
     "output_type": "stream",
     "text": [
      "Good morning\n"
     ]
    }
   ],
   "source": [
    "#4)WAP to check whether the given two input numbers are divisible by 3 and 5. If itis divisible, print “Good Morning”, if it is not divisible print “Good Evening”.\n",
    "n=15\n",
    "m=30\n",
    "if n%3==0 and n%5==0 and m%3==0 and m%5==0:\n",
    "    print(\"Good morning\")\n",
    "else:\n",
    "    print(\"Good evening\")"
   ]
  },
  {
   "cell_type": "code",
   "execution_count": 31,
   "metadata": {},
   "outputs": [
    {
     "name": "stdout",
     "output_type": "stream",
     "text": [
      "100\n"
     ]
    }
   ],
   "source": [
    "#5)WAP to accept two integers and check whether those two values are equal or not.If equal, multiply to value or else to display the quotation value.\n",
    "n=10\n",
    "m=10\n",
    "if n==m:\n",
    "    print(n*m)\n",
    "else:\n",
    "    print(n/m)\n",
    "    "
   ]
  },
  {
   "cell_type": "code",
   "execution_count": 17,
   "metadata": {},
   "outputs": [
    {
     "name": "stdout",
     "output_type": "stream",
     "text": [
      "999\n"
     ]
    }
   ],
   "source": [
    "#6)WAP to find the largest of two numbers.\n",
    "a=99\n",
    "b=999\n",
    "if a>b:\n",
    "    print(a)\n",
    "else:\n",
    "     print(b)\n",
    "    "
   ]
  },
  {
   "cell_type": "code",
   "execution_count": 19,
   "metadata": {},
   "outputs": [
    {
     "name": "stdout",
     "output_type": "stream",
     "text": [
      "greater 12\n",
      "9\n"
     ]
    }
   ],
   "source": [
    "#7)WAP to check whether the input number is greater than 10 or not if it is greater than 10 print messages as greater with number. if it is not a greater than 10 print that number.\n",
    "n=12\n",
    "if n>10:\n",
    "    print(\"greater\",n)\n",
    "else:\n",
    "    print(n)\n",
    "\n",
    "n=9\n",
    "if n>10:\n",
    "    print(\"greater\",n)\n",
    "else:\n",
    "    print(n)\n",
    "        "
   ]
  },
  {
   "cell_type": "code",
   "execution_count": 34,
   "metadata": {},
   "outputs": [
    {
     "name": "stdout",
     "output_type": "stream",
     "text": [
      "-6\n"
     ]
    }
   ],
   "source": [
    "#8)WAP to the given number integer, if n is greater than 21,print the absolute difference between n and 21 otherwise print twice the absolute difference.\n",
    "n=int(input())\n",
    "if n>21:\n",
    "    print(n-21)\n",
    "else:\n",
    "    print(2*(n-21))"
   ]
  },
  {
   "cell_type": "code",
   "execution_count": 20,
   "metadata": {},
   "outputs": [
    {
     "name": "stdout",
     "output_type": "stream",
     "text": [
      "10\n"
     ]
    }
   ],
   "source": [
    "#9)WAP to find the smallest of two numbers.\n",
    "m=10\n",
    "n=12\n",
    "if m<n:\n",
    "    print(m)\n",
    "else:\n",
    "    print(n)"
   ]
  },
  {
   "cell_type": "code",
   "execution_count": 31,
   "metadata": {},
   "outputs": [
    {
     "name": "stdout",
     "output_type": "stream",
     "text": [
      "5\n",
      "4\n"
     ]
    }
   ],
   "source": [
    "#10)WAP to check whether the given number is even or odd. If it is even then make\n",
    "#it as an odd number, if it is an odd number then make it as even number.\n",
    "a=4\n",
    "if a%2==0:\n",
    "    b=a+1\n",
    "    print(b)\n",
    "\n",
    "b=5\n",
    "if b%2!=0:\n",
    "    a=b-1\n",
    "    print(a)\n"
   ]
  },
  {
   "cell_type": "code",
   "execution_count": 24,
   "metadata": {},
   "outputs": [
    {
     "name": "stdout",
     "output_type": "stream",
     "text": [
      "9\n",
      "4096\n"
     ]
    }
   ],
   "source": [
    "#11)WAP to check whether the given number is divisible by 3 or not if yes, print the number or else print the cube of the numbers.\n",
    "n=9\n",
    "if n%3==0:\n",
    "    print(n)\n",
    "else:\n",
    "    print(n**3)\n",
    "\n",
    "n=16\n",
    "if n%3==0:\n",
    "    print(n)\n",
    "else:\n",
    "    print(n**3)\n"
   ]
  },
  {
   "cell_type": "code",
   "execution_count": 1,
   "metadata": {},
   "outputs": [
    {
     "name": "stdout",
     "output_type": "stream",
     "text": [
      "15\n",
      "23\n"
     ]
    }
   ],
   "source": [
    "#12)WAP to check whether the given input is divisible by 3 and 5. If yes print the actual number or else print string of that number.\n",
    "n=15\n",
    "if n%3==0 and n%5==0:\n",
    "    print(n)\n",
    "else:\n",
    "    print(str(n))\n",
    "\n",
    "n=23\n",
    "if n%3==0 and n%5==0:\n",
    "    print(n)\n",
    "else:\n",
    "    print(str(n))"
   ]
  },
  {
   "cell_type": "code",
   "execution_count": 2,
   "metadata": {},
   "outputs": [
    {
     "name": "stdout",
     "output_type": "stream",
     "text": [
      "16\n"
     ]
    }
   ],
   "source": [
    "#13)WAP to check whether the given number lies between 1 to 19, if it is true square that number or else false cube that number and display the number.\n",
    "n=4\n",
    "if 1<n<19:\n",
    "    print(n**2)\n",
    "else:\n",
    "    print(n**3,n)"
   ]
  },
  {
   "cell_type": "code",
   "execution_count": 4,
   "metadata": {},
   "outputs": [
    {
     "name": "stdout",
     "output_type": "stream",
     "text": [
      "pass\n"
     ]
    }
   ],
   "source": [
    "#14)WAP to check whether the student has passed or failed. If the student got more than 40 marks, print ‘PASS’ along with those marks, if it is not printed ‘FAIL’ along\n",
    "#with those marks.\n",
    "n=41\n",
    "if 40<n:\n",
    "    print(\"pass\")\n",
    "else:\n",
    "    print(\"fail\",n)"
   ]
  },
  {
   "cell_type": "code",
   "execution_count": 86,
   "metadata": {},
   "outputs": [
    {
     "name": "stdout",
     "output_type": "stream",
     "text": [
      "4\n"
     ]
    }
   ],
   "source": [
    "#15) WAP to check whether a given value is even and in range of 47 to 58 and not in 0\n",
    "#or odd. if condition is True, to perform display the ascii character. or else to\n",
    "#perform floor division with 5 and display it.\n",
    "n=52\n",
    "if 47<n<58 and n!=0 and n%2==0:\n",
    "    print(chr(n))\n",
    "else:\n",
    "    print(n//5)"
   ]
  },
  {
   "cell_type": "code",
   "execution_count": 7,
   "metadata": {},
   "outputs": [
    {
     "name": "stdout",
     "output_type": "stream",
     "text": [
      "{'a': 86}\n"
     ]
    }
   ],
   "source": [
    "#16)WAP to check whether a given value is less than 125 and in between 47 to 125 or\n",
    "#not. if condition is True, to perform store the given value as key and value as a\n",
    "#character into the dict or else to append the value in list and display it.\n",
    "d={}\n",
    "e=[]\n",
    "a=86\n",
    "if a<125 and 47<86<125:\n",
    "    d['a']=86\n",
    "    print(d)\n",
    "else:\n",
    "    e.append(a)\n",
    "    print(a)"
   ]
  },
  {
   "cell_type": "code",
   "execution_count": 3,
   "metadata": {},
   "outputs": [
    {
     "name": "stdout",
     "output_type": "stream",
     "text": [
      "alphabet a\n"
     ]
    }
   ],
   "source": [
    "#17)WAP to check whether a given character is in the alphabet or not. if alphabet,\n",
    "#display the alphabet with character or else display the not alphabet with\n",
    "#character.\n",
    "ch=\"a\"\n",
    "if 'A'<=ch<='Z' or 'a'<=ch<='z':\n",
    "    print(\"alphabet\",ch)\n",
    "else:\n",
    "    print(\"not alphabet\",ch)"
   ]
  },
  {
   "cell_type": "code",
   "execution_count": 4,
   "metadata": {},
   "outputs": [
    {
     "name": "stdout",
     "output_type": "stream",
     "text": [
      "uppercase A\n"
     ]
    }
   ],
   "source": [
    "#18)WAP to check whether a given character is uppercase or other character. if\n",
    "#uppercase, display the uppercase with character or else display the other\n",
    "#character with character.\n",
    "ch=\"A\"\n",
    "if 'A'<=ch<='Z' or 'a'<=ch<='z':\n",
    "    print(\"uppercase\",ch)\n",
    "else:\n",
    "    print(\"not uppercase\",ch)\n"
   ]
  },
  {
   "cell_type": "code",
   "execution_count": 5,
   "metadata": {},
   "outputs": [
    {
     "name": "stdout",
     "output_type": "stream",
     "text": [
      "lowercase a\n"
     ]
    }
   ],
   "source": [
    "#19)WAP to check whether a given character is lowercase or other character. if\n",
    "#lowercase, display the lowercase with character or else display the other\n",
    "#character with character.\n",
    "ch=\"a\"\n",
    "if 'A'<=ch<='Z' or 'a'<=ch<='z':\n",
    "    print(\"lowercase\",ch)\n",
    "else:\n",
    "    print(\"not lowercase\",ch)"
   ]
  },
  {
   "cell_type": "code",
   "execution_count": 9,
   "metadata": {},
   "outputs": [
    {
     "name": "stdout",
     "output_type": "stream",
     "text": [
      "a\n"
     ]
    }
   ],
   "source": [
    "#20)WAP to check whether a given character is uppercase or other character. if\n",
    "#uppercase, convert to lowercase .or else display the ascii number.\n",
    "ch=\"A\"\n",
    "if 'A'<=ch<='Z' or 'a'<=ch<='z':\n",
    "    n=ord(ch)+32\n",
    "    print(chr(n))\n",
    "else:\n",
    "    print(ord(ch))"
   ]
  },
  {
   "cell_type": "code",
   "execution_count": 12,
   "metadata": {},
   "outputs": [
    {
     "name": "stdout",
     "output_type": "stream",
     "text": [
      "A\n"
     ]
    }
   ],
   "source": [
    "#21)WAP to check whether the given character is in lowercase or uppercase. If it is\n",
    "#in lowercase, convert it into uppercase, or else it is in uppercase and convert it\n",
    "#into lowercase. Display the value.\n",
    "ch=\"a\"\n",
    "if 'A'<=ch<='Z' or 'a'<=ch<='z':\n",
    "    n=ord(ch)-32\n",
    "    print(chr(n))\n",
    "else:\n",
    "    print(ord(ch))\n"
   ]
  },
  {
   "cell_type": "code",
   "execution_count": 29,
   "metadata": {},
   "outputs": [
    {
     "name": "stdout",
     "output_type": "stream",
     "text": [
      "\n"
     ]
    }
   ],
   "source": [
    "#22)WAP to check whether the given string of the first character is a special symbol\n",
    "#or not. If a special symbol, to extract and display the middle character or else to\n",
    "#reverse the string and display the half of the string.\n",
    "a=[\"@\",\"!\",\"$\"]\n",
    "b=input()\n",
    "if b[0] in a:\n",
    "    print(b[len(b)//2])\n",
    "else:\n",
    "    print(b[-1:len(b)//2:])\n"
   ]
  },
  {
   "cell_type": "code",
   "execution_count": 27,
   "metadata": {},
   "outputs": [
    {
     "name": "stdout",
     "output_type": "stream",
     "text": [
      "vowel i\n"
     ]
    }
   ],
   "source": [
    "#23)WAP to check whether the input character is a vowel or not. If it is vowel print\n",
    "#‘VOWEL’ along with that character, if it is not just print ‘CONSONANT’.\n",
    "n=\"i\"\n",
    "if \"i\" in \"AEIOUaeiou\":\n",
    "    print(\"vowel\",n)\n",
    "else:\n",
    "    print(\"CONSONANT\")\n"
   ]
  },
  {
   "cell_type": "code",
   "execution_count": 39,
   "metadata": {},
   "outputs": [
    {
     "name": "stdout",
     "output_type": "stream",
     "text": [
      "j\n"
     ]
    }
   ],
   "source": [
    "#24)WAP to check whether a given character is a vowel or consonant. if vowel, to\n",
    "#print the next character of a given character or else print previous characters.\n",
    "n=\"i\"\n",
    "if \"i\" in \"AEIOUaeiou\" or \"i\" in \"CONSONANT\":\n",
    "    print(chr(ord(n)+1))\n",
    "else:\n",
    "    print(chr(ord(n)-1))\n",
    "\n"
   ]
  },
  {
   "cell_type": "code",
   "execution_count": 52,
   "metadata": {},
   "outputs": [
    {
     "name": "stdout",
     "output_type": "stream",
     "text": [
      "321a\n"
     ]
    }
   ],
   "source": [
    "#25)WAP to check whether a given string of first character is alphabet or not\n",
    "#if the alphabet prints, reverse the string or else print the middle character.\n",
    "n=\"a123\"\n",
    "if n[0] in \"a\"<=n<=\"z\":\n",
    "    print(n[-1::-1])\n",
    "else:\n",
    "    print(n[len(n)//2])"
   ]
  },
  {
   "cell_type": "code",
   "execution_count": 55,
   "metadata": {},
   "outputs": [
    {
     "name": "stdout",
     "output_type": "stream",
     "text": [
      "a\n",
      "A\n"
     ]
    }
   ],
   "source": [
    "#26)WAP to check whether the given input character is uppercase or lowercase. If\n",
    "#the input character is upper case convert into lower case and vice versa.\n",
    "ch=\"A\"\n",
    "if ch in \"A\"<=n<=\"Z\" or \"a\"<=n<=\"z\":\n",
    "    print(chr(ord(ch)+32))\n",
    "\n",
    "ch=\"a\"\n",
    "if ch in \"A\"<=n<=\"Z\" or \"a\"<=n<=\"z\":\n",
    "    print(chr(ord(ch)-32))\n"
   ]
  },
  {
   "cell_type": "code",
   "execution_count": 56,
   "metadata": {},
   "outputs": [
    {
     "name": "stdout",
     "output_type": "stream",
     "text": [
      "str\n"
     ]
    }
   ],
   "source": [
    "#27)WAP to check whether a given string is less than 3 characters, to print the entire\n",
    "#string otherwise to print after third positions to the remaining string.\n",
    "n=\"str\"\n",
    "if len(n)//2<3:\n",
    "    print(n)\n",
    "else:\n",
    "    print(n[2:])"
   ]
  },
  {
   "cell_type": "code",
   "execution_count": 64,
   "metadata": {},
   "outputs": [
    {
     "name": "stdout",
     "output_type": "stream",
     "text": [
      "jagathkjbye\n"
     ]
    }
   ],
   "source": [
    "#28)WAP to check whether a given length of the string is even or not. if even, to append the new string called \"bye\" or else print the first and last characters.\n",
    "m=\"bye\"\n",
    "n=\"jagathkj\"\n",
    "if (len(n)//2)%2==0:\n",
    "    a=n+m\n",
    "    print(a)\n",
    "else:\n",
    "    print(n[0],n[-1])\n",
    "    "
   ]
  },
  {
   "cell_type": "code",
   "execution_count": 66,
   "metadata": {},
   "outputs": [
    {
     "name": "stdout",
     "output_type": "stream",
     "text": [
      "Haiijagathk\n"
     ]
    }
   ],
   "source": [
    "#29)WAP to check whether a given length of the string is odd or not. if odd, to append\n",
    "#he new string(\"Haii\") from the starting of the given string, or else to avoid the\n",
    "#starting character and ending character of the given\n",
    "#string and to display the remaining characters.\n",
    "m=\"Haii\"\n",
    "n=\"jagathk\"\n",
    "if (len(n)//2)%2!=0:\n",
    "    a=m+n\n",
    "    print(a)\n",
    "else:\n",
    "    print(n[1:5])\n"
   ]
  },
  {
   "cell_type": "code",
   "execution_count": 70,
   "metadata": {},
   "outputs": [
    {
     "name": "stdout",
     "output_type": "stream",
     "text": [
      "athk\n"
     ]
    }
   ],
   "source": [
    "#30)WAP to check whether the last of the given string is a special character or not, if\n",
    "#the special character prints reverse the string except the last character or else to\n",
    "#check if the length of the string is odd or not, if odd to extract the middle\n",
    "#character to the end of the string.\n",
    "n=[\"@\",\"!\",\"$\"]\n",
    "m=\"jagath@\"\n",
    "if m[-1] in n:\n",
    "    print(m[-1:])\n",
    "else:\n",
    "    a=len(m)//2\n",
    "    if a%2==0:\n",
    "        print(\"even\")\n",
    "    else:\n",
    "        print(m[len(m)//2:])"
   ]
  },
  {
   "cell_type": "code",
   "execution_count": 15,
   "metadata": {},
   "outputs": [
    {
     "name": "stdout",
     "output_type": "stream",
     "text": [
      "1600 leap year\n"
     ]
    }
   ],
   "source": [
    "#31)WAP to check whether a given year is a leap year or not. if leap year, print leap\n",
    "#year or else not a leap year.\n",
    "n=int(input())\n",
    "if n%4==0 and str(n)[2:]!='00':\n",
    "       print(n,'is a leap year')\n",
    "       \n",
    "elif str(n)[2:]=='00' and n%400==0:\n",
    "        print(n,'leap year')\n",
    "else:\n",
    "    print(n,\"not a leap year\")"
   ]
  },
  {
   "cell_type": "code",
   "execution_count": 74,
   "metadata": {},
   "outputs": [
    {
     "name": "stdout",
     "output_type": "stream",
     "text": [
      " greatest number 11\n"
     ]
    }
   ],
   "source": [
    "#32)WAP to find out the greatest of two numbers and display the greatest number. if\n",
    "#the greatest number, display the greatest message with value.\n",
    "a=10\n",
    "b=11\n",
    "if a<b:\n",
    "    print(\" greatest number\",b)"
   ]
  },
  {
   "cell_type": "code",
   "execution_count": 28,
   "metadata": {},
   "outputs": [
    {
     "name": "stdout",
     "output_type": "stream",
     "text": [
      "10\n"
     ]
    }
   ],
   "source": [
    "\"\"\"33)WAP to check whether the given value is present inside the given collection or\n",
    "not.if value is present, display the value is available or else the value is not\n",
    "present.\"\"\"\n",
    "a=(10,20,30,40)\n",
    "b=(10)\n",
    "if a[0] in a:\n",
    "    print(a[0])\n",
    "else:\n",
    "    print(\"value is not present\")"
   ]
  },
  {
   "cell_type": "code",
   "execution_count": 91,
   "metadata": {},
   "outputs": [
    {
     "name": "stdout",
     "output_type": "stream",
     "text": [
      "strstrstr\n"
     ]
    }
   ],
   "source": [
    "#34)WAP whether a given string, if string length is more than 2, then it displays a new\n",
    "#string with the first and last characters switched, otherwise the display the 3\n",
    "#copies of given string.\n",
    "n=\"str\"\n",
    "if len(n)>2:\n",
    "    print(n[0]+\"r\"+n[-1])\n",
    "else:\n",
    "    print(3*n)"
   ]
  },
  {
   "cell_type": "code",
   "execution_count": 93,
   "metadata": {},
   "outputs": [
    {
     "name": "stdout",
     "output_type": "stream",
     "text": [
      "16\n"
     ]
    }
   ],
   "source": [
    "#35)WAP to check whether a given value is a list and first and last values should be\n",
    "#integer if condition is satisfied first value is True division by 3 and perform the\n",
    "#bitwise not for last value and those result values are stored in same positions in\n",
    "#given list or else, to perform length of the collection power by 2 and display\n",
    "#value.\n",
    "l=[10,20,30,40]\n",
    "if type(l)==list and type(l)[0]==int and type(l)[-1]==int:\n",
    "    l[0]=l[0]/3\n",
    "    l[-1]=~l[-1]\n",
    "    print(l)\n",
    "else:\n",
    "    print(len(l)**2)\n",
    "\n"
   ]
  },
  {
   "cell_type": "code",
   "execution_count": 106,
   "metadata": {},
   "outputs": [
    {
     "name": "stdout",
     "output_type": "stream",
     "text": [
      "pyspspyiders\n"
     ]
    }
   ],
   "source": [
    "#36)WAP to check whether a given value is a string or not and length of the value\n",
    "#should be more than 7, if condition is satisfied to append the new string in the\n",
    "#middle of the given string or else to perform the replications with 3 and display\n",
    "#the result.\n",
    "n=\"pyspiders\"\n",
    "m=\"spy\"\n",
    "if type(n)== str and len(n)>7:\n",
    "    a=n[0:len(n)//2]+\"spy\"+n[len(n)//2:]\n",
    "    print(a)\n",
    "else:\n",
    "    print(n*3)"
   ]
  },
  {
   "cell_type": "code",
   "execution_count": 39,
   "metadata": {},
   "outputs": [
    {
     "name": "stdout",
     "output_type": "stream",
     "text": [
      "dipsders\n"
     ]
    }
   ],
   "source": [
    "#37)WAP to check if the given string of first and second character should be sequence \n",
    "#or not. if the sequence prints the first, second and last two characters, or else the \n",
    "#first half string is reversed and the remaining half string should be normal and \n",
    "#display it.\n",
    "n=\"spiders\"\n",
    "if ord(n[0])==ord(n[1])-1:\n",
    "    a=n[0],n[1],n[-2:]\n",
    "    print(a)\n",
    "else:\n",
    "    b=n[-len(n)//2::-1]+n[len(n)//2::]\n",
    "    print(b)"
   ]
  },
  {
   "cell_type": "code",
   "execution_count": 1,
   "metadata": {},
   "outputs": [
    {
     "name": "stdout",
     "output_type": "stream",
     "text": [
      "10\n"
     ]
    }
   ],
   "source": [
    "#38)WAP to check whether a given value is present inside the collection or not. If \n",
    "#present, print the value or else print value is not found.\n",
    "l=[10,20,30,40]\n",
    "if l[0] in l:\n",
    "    print(l[0])\n",
    "else:\n",
    "    print(\"value is not found\")"
   ]
  },
  {
   "cell_type": "code",
   "execution_count": 45,
   "metadata": {},
   "outputs": [
    {
     "name": "stdout",
     "output_type": "stream",
     "text": [
      "{'a': 10, 'b': 20, 'c': 30, 'g': 40}\n"
     ]
    }
   ],
   "source": [
    "#39)WAP to check whether a given key is present in the dict or not. if key is present: \n",
    "#display the value or else add key and new value inside the dict.\n",
    "d={'a':10,'b':20,'c':30}\n",
    "z=input()\n",
    "if z in d:\n",
    "    print(d[z])\n",
    "else:\n",
    "    d[z]=40\n",
    "    print(d)"
   ]
  },
  {
   "cell_type": "code",
   "execution_count": 39,
   "metadata": {},
   "outputs": [
    {
     "name": "stdout",
     "output_type": "stream",
     "text": [
      "[40, 10, 20, 30, {50}]\n"
     ]
    }
   ],
   "source": [
    "#40)WAP to check whether a given collection is set or not. if set, append the new \n",
    "#value, or else eliminate the duplicate values in collection. final results should be \n",
    "#set type.\n",
    "a={10,20,10,30,20,40}\n",
    "b={50}                                        \n",
    "if type(a)==set:\n",
    "    a=list(a)\n",
    "    a.append(b)\n",
    "    print(a)\n",
    "else:\n",
    "    a=set(a)\n",
    "    print(a)\n",
    "\n",
    "    "
   ]
  },
  {
   "cell_type": "code",
   "execution_count": 1,
   "metadata": {},
   "outputs": [
    {
     "name": "stdout",
     "output_type": "stream",
     "text": [
      "18 eligible\n"
     ]
    }
   ],
   "source": [
    "\"\"\"41)WAP to read the age of a candidate and determine whether it is eligible for \n",
    "his/her own vote or not.it eligible print age and eligible messages or else print \n",
    "not eligible.\"\"\"\n",
    "a=18\n",
    "if a>=18:\n",
    "    print(a,\"eligible\")\n",
    "else:\n",
    "    print(\"not eligible\")"
   ]
  },
  {
   "cell_type": "code",
   "execution_count": 2,
   "metadata": {},
   "outputs": [
    {
     "name": "stdout",
     "output_type": "stream",
     "text": [
      "8\n"
     ]
    }
   ],
   "source": [
    "#42)WAP to check whether a given value is even and in between 47 to 58 and not in \n",
    "#0 or odd. if condition is True, to perform display the ascii character or else to \n",
    "#perform floor division with 5 and display it.\n",
    "n=56\n",
    "if n%2==0 and 47<=n<=58 and n!=0:\n",
    "    print(chr(n))\n",
    "else:\n",
    "    print(n//5)"
   ]
  },
  {
   "cell_type": "code",
   "execution_count": 15,
   "metadata": {},
   "outputs": [
    {
     "name": "stdout",
     "output_type": "stream",
     "text": [
      "palindrome madam\n"
     ]
    }
   ],
   "source": [
    "#43)WAP to check whether the given string is palindrome or not if it is a palindrome \n",
    "#string palindrome along with the string if it is not a palindrome print not \n",
    "#palindrome\n",
    "n=\"madam\"\n",
    "s=\"madam\"\n",
    "if (n[::-1]==s):\n",
    "    print(\"palindrome\",n)\n",
    "else:\n",
    "    print(\"not palindrome\")"
   ]
  },
  {
   "cell_type": "code",
   "execution_count": 21,
   "metadata": {},
   "outputs": [
    {
     "name": "stdout",
     "output_type": "stream",
     "text": [
      "11\n"
     ]
    }
   ],
   "source": [
    "#44)WAP to check whether a given number is palindrome or not. If palindrome, \n",
    "#display the given value as a palindrome or else not a palindrome.\n",
    "a='11'\n",
    "if (a[::-1]==a[0::1]):\n",
    "    print(a)\n",
    "else:\n",
    "    print(\"not palindrome\")\n"
   ]
  },
  {
   "cell_type": "code",
   "execution_count": 32,
   "metadata": {},
   "outputs": [
    {
     "name": "stdout",
     "output_type": "stream",
     "text": [
      "spidersjagathk\n"
     ]
    }
   ],
   "source": [
    "#45)WAP to check length of both string collections are equal or not. if both are equal \n",
    "#print the concat the two strings and display, or else if any one of the collection \n",
    "#not equal print both the collections with lengths\n",
    "a=\"spiders\"\n",
    "b=\"jagathk\"\n",
    "if len(a)==len(b):\n",
    "    c=a+b\n",
    "    print(c)\n",
    "else:\n",
    "    print((len(a)),(len(b)))"
   ]
  },
  {
   "cell_type": "code",
   "execution_count": 24,
   "metadata": {},
   "outputs": [
    {
     "name": "stdout",
     "output_type": "stream",
     "text": [
      "10 40 2338070111872\n"
     ]
    }
   ],
   "source": [
    "#46)WAP to check whether both given values point to the same memory location or \n",
    "#not. if it is true print the middle item of the second collection, or else if it is false \n",
    "#print the first item and last item of the first collection along with the memory \n",
    "#address.\n",
    "a=[10,20,30,40]\n",
    "b=[50,60]\n",
    "if id(a)==id(b):\n",
    "    print(b[len(b)//2])\n",
    "else:\n",
    "    print(a[0],a[-1],id(a))\n"
   ]
  },
  {
   "cell_type": "code",
   "execution_count": 37,
   "metadata": {},
   "outputs": [
    {
     "name": "stdout",
     "output_type": "stream",
     "text": [
      "jagathkumarjagathkumarjagathkumar\n"
     ]
    }
   ],
   "source": [
    "#47)WAP to check whether a given string collection is more than ten, and the first + \n",
    "#last character of the ascii values should be divisible by 5, if condition is satisfied \n",
    "#print first, middle, last characters ASCII values or else print the string three \n",
    "#times\n",
    "a=\"jagathkumar\"\n",
    "if len(a)>10 and ord(a[0])+ord(b[-1])%5==0:\n",
    "    b=ord(a[0]),ord(a[len(a)//2]),ord(a[-1])\n",
    "    print(b)\n",
    "else:\n",
    "    print(a*3)\n"
   ]
  },
  {
   "cell_type": "code",
   "execution_count": 28,
   "metadata": {},
   "outputs": [
    {
     "name": "stdout",
     "output_type": "stream",
     "text": [
      "[1, 2, 3, 'a', 4, 5, 6]\n"
     ]
    }
   ],
   "source": [
    "'''48)WAP to check whether the middle of the item present in the list is string data type \n",
    "or not if it is string print that list or else if it is not string then print that middle \n",
    "item.'''\n",
    "a=[1,2,3,'a',4,5,6]\n",
    "if type(a[len(a)//2])==str:\n",
    "    print(a)\n",
    "else:\n",
    "    print(len(a)//2)"
   ]
  },
  {
   "cell_type": "code",
   "execution_count": 23,
   "metadata": {},
   "outputs": [
    {
     "name": "stdout",
     "output_type": "stream",
     "text": [
      "syspiderp\n"
     ]
    }
   ],
   "source": [
    "#49)WAP Given a string, return a new string where the first and last characters have \n",
    "#been exchanged.\n",
    "a=\"pyspiders\"\n",
    "b=a[-1]+a[1:-1]+a[0]\n",
    "print(b)\n"
   ]
  },
  {
   "cell_type": "code",
   "execution_count": 40,
   "metadata": {},
   "outputs": [
    {
     "name": "stdout",
     "output_type": "stream",
     "text": [
      "21\n"
     ]
    }
   ],
   "source": [
    "\"\"\"50)Write a program to find out such numbers which are divisible by 7 but are not a \n",
    "multiple of 5. Both the conditional is satisfied and print actual value. if one \n",
    "condition is not satisfied actual number is multiply by 4 and print result\"\"\"\n",
    "a=21\n",
    "if a%7==0 and a%5!=0:\n",
    "    print(a)\n",
    "else:\n",
    "    print(a*4)"
   ]
  },
  {
   "cell_type": "code",
   "execution_count": 45,
   "metadata": {},
   "outputs": [
    {
     "name": "stdout",
     "output_type": "stream",
     "text": [
      "140735248589896\n"
     ]
    }
   ],
   "source": [
    "\"\"\"51)WAP to check whether two values are pointing to the same memory address or \n",
    "not. If the same memory displays the address or else displays the two values \n",
    "addresses.\"\"\"\n",
    "a=10\n",
    "b=10\n",
    "if id(a)==id(b):\n",
    "    c=id(a) and id(b)\n",
    "    print(c)\n",
    "else:\n",
    "    print(id(a))\n",
    "    print((b))"
   ]
  },
  {
   "cell_type": "code",
   "execution_count": 3,
   "metadata": {},
   "outputs": [
    {
     "name": "stdout",
     "output_type": "stream",
     "text": [
      "@@@\n"
     ]
    }
   ],
   "source": [
    "\"\"\"52)WAP to check whether a given input character is a special symbol or not if it is a \n",
    "special symbol then print that character three times and tell print that character \n",
    "5 times.\"\"\"\n",
    "ch=\"@\"\n",
    "if 0<=ord(ch)<=47 or 58<=ord(ch)<=64 or 91<=ord(ch<=96) or 123<=ord(ch)<=127:\n",
    "    print(ch*3)\n",
    "else:\n",
    "    print(ch*5)\n",
    "\n",
    "\n"
   ]
  },
  {
   "cell_type": "code",
   "execution_count": 6,
   "metadata": {},
   "outputs": [
    {
     "name": "stdout",
     "output_type": "stream",
     "text": [
      "spiders\n"
     ]
    }
   ],
   "source": [
    "\"\"\"53)WAP to check length of both string collections equal or not if it is equal print the \n",
    "colleection of any one of the collections if it is not equal print both the collection.\"\"\"\n",
    "a=\"spiders\"\n",
    "b=\"jagathk\"\n",
    "if len(a)==len(b):\n",
    "    print(a)\n",
    "else:\n",
    "    print(a,b)\n",
    "\n"
   ]
  },
  {
   "cell_type": "code",
   "execution_count": 17,
   "metadata": {},
   "outputs": [
    {
     "name": "stdout",
     "output_type": "stream",
     "text": [
      "2954172664960\n",
      "2954172691008\n",
      "10 2954172664960\n"
     ]
    }
   ],
   "source": [
    "\"\"\"54)WAP To check whether both input variables point to the same memory location \n",
    "or not if it is true print the last item of the second collection, if it is false print the \n",
    "first item of the first collection along with the memory address.\"\"\"\n",
    "a=(10,20,30)\n",
    "b=(10,20,30,40)\n",
    "print(id(a))\n",
    "print(id(b))\n",
    "if id(a)==id(b):\n",
    "    print(b[-1])\n",
    "else:\n",
    "    print(a[0],id(a))\n"
   ]
  },
  {
   "cell_type": "code",
   "execution_count": 38,
   "metadata": {},
   "outputs": [
    {
     "name": "stdout",
     "output_type": "stream",
     "text": [
      "pythonpythonpython\n"
     ]
    }
   ],
   "source": [
    "\"\"\"55)WAP to print the string collection five times when the length of the string \n",
    "collection should be more than 3 and the middle character of the string should \n",
    "be vowel and the first character ASCII value should be even, to print the previous \n",
    "character of middle character, or else if ASCII value is odd then print the string \n",
    "three times as print that string\"\"\"   \n",
    "a=\"python\"\n",
    "if len(a)>3 and a[len(a)//2]in \"AEIOUAEIOU\" and a[0]%2==0:\n",
    "    b=ord(chr(len(a)//2)-1)\n",
    "    print(a*5,b)\n",
    "else:\n",
    "    print(a*3)\n",
    "\n"
   ]
  },
  {
   "cell_type": "code",
   "execution_count": 32,
   "metadata": {},
   "outputs": [
    {
     "name": "stdout",
     "output_type": "stream",
     "text": [
      "come out of shop\n"
     ]
    }
   ],
   "source": [
    "\"\"\"56)Ravi would like to buy a new cello or red pen. The cost of the pen should be 10. \n",
    "If the pen is available in the shop, he will buy the pen. If it is not there he will \n",
    "come out of the shop\"\"\"\n",
    "a=\"cello\"\n",
    "b=\"shop\"\n",
    "if a in b:\n",
    "    print(\"buy the pen\")\n",
    "else:\n",
    "    print(\"come out of shop\")"
   ]
  },
  {
   "cell_type": "code",
   "execution_count": 28,
   "metadata": {},
   "outputs": [
    {
     "name": "stdout",
     "output_type": "stream",
     "text": [
      "40\n"
     ]
    }
   ],
   "source": [
    "\"\"\"57)WAP to perform addition and subtraction operation by using list collection if the \n",
    "first and middle data items number are even performing addition operation, or \n",
    "else performing subtraction\"\"\"\n",
    "a=[10,20,30,40,50]\n",
    "if a[0] and a[len(a)//20]%2==0:\n",
    "    print(a[0]+a[len(a)//2])\n",
    "else:\n",
    "    print(a[0]-a[len(a)//2])"
   ]
  },
  {
   "cell_type": "code",
   "execution_count": 22,
   "metadata": {},
   "outputs": [
    {
     "name": "stdout",
     "output_type": "stream",
     "text": [
      "[10, 20, 30, 40, 30, 40, 50, 60]\n"
     ]
    }
   ],
   "source": [
    "\"\"\"58)WAP to check whether the first item of these two lists is either integer or not. \n",
    "If it is an integer, concatenate these two lists or else print the memory \n",
    "address of these two lists\"\"\"\n",
    "a=[10,20,30,40]\n",
    "b=[30,40,50,60]\n",
    "if type(a[0])==int and type(b[0])==int:\n",
    "    c=a+b\n",
    "    print(c)\n",
    "else:\n",
    "    print(id(a),id(b))"
   ]
  },
  {
   "cell_type": "code",
   "execution_count": 40,
   "metadata": {},
   "outputs": [
    {
     "name": "stdout",
     "output_type": "stream",
     "text": [
      "100\n"
     ]
    }
   ],
   "source": []
  },
  {
   "cell_type": "code",
   "execution_count": null,
   "metadata": {},
   "outputs": [],
   "source": []
  },
  {
   "cell_type": "code",
   "execution_count": null,
   "metadata": {},
   "outputs": [],
   "source": []
  },
  {
   "cell_type": "code",
   "execution_count": null,
   "metadata": {},
   "outputs": [],
   "source": []
  },
  {
   "cell_type": "code",
   "execution_count": null,
   "metadata": {},
   "outputs": [],
   "source": []
  },
  {
   "cell_type": "code",
   "execution_count": null,
   "metadata": {},
   "outputs": [],
   "source": []
  },
  {
   "cell_type": "code",
   "execution_count": null,
   "metadata": {},
   "outputs": [],
   "source": []
  },
  {
   "cell_type": "code",
   "execution_count": null,
   "metadata": {},
   "outputs": [],
   "source": []
  },
  {
   "cell_type": "code",
   "execution_count": null,
   "metadata": {},
   "outputs": [],
   "source": []
  },
  {
   "cell_type": "code",
   "execution_count": null,
   "metadata": {},
   "outputs": [],
   "source": []
  },
  {
   "cell_type": "code",
   "execution_count": null,
   "metadata": {},
   "outputs": [],
   "source": []
  },
  {
   "cell_type": "code",
   "execution_count": null,
   "metadata": {},
   "outputs": [],
   "source": []
  },
  {
   "cell_type": "code",
   "execution_count": null,
   "metadata": {},
   "outputs": [],
   "source": []
  },
  {
   "cell_type": "code",
   "execution_count": null,
   "metadata": {},
   "outputs": [],
   "source": []
  },
  {
   "cell_type": "code",
   "execution_count": null,
   "metadata": {},
   "outputs": [],
   "source": []
  },
  {
   "cell_type": "code",
   "execution_count": null,
   "metadata": {},
   "outputs": [],
   "source": []
  },
  {
   "cell_type": "code",
   "execution_count": null,
   "metadata": {},
   "outputs": [],
   "source": []
  },
  {
   "cell_type": "code",
   "execution_count": null,
   "metadata": {},
   "outputs": [],
   "source": []
  },
  {
   "cell_type": "code",
   "execution_count": null,
   "metadata": {},
   "outputs": [],
   "source": []
  },
  {
   "cell_type": "code",
   "execution_count": null,
   "metadata": {},
   "outputs": [],
   "source": []
  }
 ],
 "metadata": {
  "kernelspec": {
   "display_name": "Python 3",
   "language": "python",
   "name": "python3"
  },
  "language_info": {
   "codemirror_mode": {
    "name": "ipython",
    "version": 3
   },
   "file_extension": ".py",
   "mimetype": "text/x-python",
   "name": "python",
   "nbconvert_exporter": "python",
   "pygments_lexer": "ipython3",
   "version": "3.11.4"
  },
  "orig_nbformat": 4
 },
 "nbformat": 4,
 "nbformat_minor": 2
}
