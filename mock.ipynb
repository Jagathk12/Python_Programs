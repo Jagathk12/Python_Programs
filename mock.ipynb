{
 "cells": [
  {
   "cell_type": "code",
   "execution_count": 13,
   "metadata": {},
   "outputs": [
    {
     "name": "stdout",
     "output_type": "stream",
     "text": [
      "jagaTHJAGAth\n"
     ]
    }
   ],
   "source": [
    "a=\"jagaTH\"\n",
    "b=a[0:]+\"JAGAth\"\n",
    "print(b)\n",
    "# c=a[0:4]\n",
    "# c=c.upper()\n",
    "# d=a[4::1]\n",
    "# d=d.lower()\n",
    "# print(c+d)"
   ]
  },
  {
   "cell_type": "code",
   "execution_count": 31,
   "metadata": {},
   "outputs": [
    {
     "name": "stdout",
     "output_type": "stream",
     "text": [
      "greater\n"
     ]
    }
   ],
   "source": [
    "#write a program to check whether the given number is greater than 10 or not if it is greater than 10 or not than \n",
    "#print the message greater or else print the number is not a greater \n",
    "n=12\n",
    "if n>=10:\n",
    "    print(\"greater\")\n",
    "else:\n",
    "    print(\"not gretaer\")"
   ]
  },
  {
   "cell_type": "code",
   "execution_count": 2,
   "metadata": {},
   "outputs": [
    {
     "name": "stdout",
     "output_type": "stream",
     "text": [
      "1730943830144 1730943829696\n",
      "[10, 20, 30, 40, 50, 60, 70, 80]\n"
     ]
    }
   ],
   "source": [
    "#wap to check whteher the first item of two lists is either integer or not if is an integer concat the two list or else print the memory address of these two lists\n",
    "a=[10.5,20,30,40]\n",
    "b=[50,60,70,80]\n",
    "if a[0] and b[0]==int:\n",
    "    a+=b\n",
    "    print(a)\n",
    "else:\n",
    "    print(id(a),id(b)) \n",
    "\n",
    "a=[10,20,30,40]\n",
    "b=[50,60,70,80]\n",
    "if type(a[0])==int and type(b[0])==int:\n",
    "    a+=b\n",
    "    print(a)\n",
    "else:\n",
    "    print(id(a),id(b))"
   ]
  }
 ],
 "metadata": {
  "kernelspec": {
   "display_name": "Python 3",
   "language": "python",
   "name": "python3"
  },
  "language_info": {
   "codemirror_mode": {
    "name": "ipython",
    "version": 3
   },
   "file_extension": ".py",
   "mimetype": "text/x-python",
   "name": "python",
   "nbconvert_exporter": "python",
   "pygments_lexer": "ipython3",
   "version": "3.11.4"
  },
  "orig_nbformat": 4
 },
 "nbformat": 4,
 "nbformat_minor": 2
}
